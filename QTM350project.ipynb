{
  "nbformat": 4,
  "nbformat_minor": 0,
  "metadata": {
    "colab": {
      "name": "QTM350project",
      "provenance": [],
      "collapsed_sections": [],
      "mount_file_id": "1_UN8F6vZMc8iLUj1KUNxGoE11SXvzadu",
      "authorship_tag": "ABX9TyMFYs+Tqp8Ck6T7x9db4g7D",
      "include_colab_link": true
    },
    "kernelspec": {
      "display_name": "Python 3",
      "name": "python3"
    },
    "accelerator": "GPU"
  },
  "cells": [
    {
      "cell_type": "markdown",
      "metadata": {
        "id": "view-in-github",
        "colab_type": "text"
      },
      "source": [
        "<a href=\"https://colab.research.google.com/github/addishp/QTM350_aws_project/blob/main/QTM350project.ipynb\" target=\"_parent\"><img src=\"https://colab.research.google.com/assets/colab-badge.svg\" alt=\"Open In Colab\"/></a>"
      ]
    },
    {
      "cell_type": "code",
      "metadata": {
        "id": "jeDyPzGqsoXP",
        "outputId": "984a9f09-b1b9-4368-eea3-312729894034",
        "colab": {
          "base_uri": "https://localhost:8080/"
        }
      },
      "source": [
        "!pip install Pillow\n",
        "\n",
        "import shutil\n",
        "from PIL import Image, ImageFilter\n",
        "import requests\n",
        "import getpass\n",
        "import json\n",
        "import pandas as pd"
      ],
      "execution_count": 23,
      "outputs": [
        {
          "output_type": "stream",
          "text": [
            "Requirement already satisfied: Pillow in /usr/local/lib/python3.6/dist-packages (7.0.0)\n"
          ],
          "name": "stdout"
        }
      ]
    },
    {
      "cell_type": "code",
      "metadata": {
        "id": "YK9NsrxxtiCn",
        "outputId": "fb761c28-cda5-4e66-8fcb-47278c28a850",
        "colab": {
          "base_uri": "https://localhost:8080/"
        }
      },
      "source": [
        "#Hiding API secret key in variable\n",
        "APIKEY = getpass.getpass(prompt=\"Please Enter the API Key.\")"
      ],
      "execution_count": 3,
      "outputs": [
        {
          "output_type": "stream",
          "text": [
            "Please Enter the API Key.··········\n"
          ],
          "name": "stdout"
        }
      ]
    },
    {
      "cell_type": "code",
      "metadata": {
        "id": "aSAF3Wzit3Ny",
        "outputId": "41541bf2-7f9d-42f5-a3ff-574c7af50e76",
        "colab": {
          "base_uri": "https://localhost:8080/",
          "height": 1000
        }
      },
      "source": [
        "#getting the .json from the API for the urls we need\n",
        "!curl --request GET -o base_images.json \"https://api.unsplash.com/search/photos?per_page=50&query=portrait&page=6&client_id=$APIKEY\"\n",
        "\n",
        "#checking it worked\n",
        "pd.read_json(\"base_images.json\")"
      ],
      "execution_count": 17,
      "outputs": [
        {
          "output_type": "stream",
          "text": [
            "  % Total    % Received % Xferd  Average Speed   Time    Time     Time  Current\n",
            "                                 Dload  Upload   Total   Spent    Left  Speed\n",
            "\r  0     0    0     0    0     0      0      0 --:--:-- --:--:-- --:--:--     0\r  7  213k    7 15465    0     0  96656      0  0:00:02 --:--:--  0:00:02 96055\r100  213k  100  213k    0     0  1264k      0 --:--:-- --:--:-- --:--:-- 1257k\n"
          ],
          "name": "stdout"
        },
        {
          "output_type": "execute_result",
          "data": {
            "text/html": [
              "<div>\n",
              "<style scoped>\n",
              "    .dataframe tbody tr th:only-of-type {\n",
              "        vertical-align: middle;\n",
              "    }\n",
              "\n",
              "    .dataframe tbody tr th {\n",
              "        vertical-align: top;\n",
              "    }\n",
              "\n",
              "    .dataframe thead th {\n",
              "        text-align: right;\n",
              "    }\n",
              "</style>\n",
              "<table border=\"1\" class=\"dataframe\">\n",
              "  <thead>\n",
              "    <tr style=\"text-align: right;\">\n",
              "      <th></th>\n",
              "      <th>total</th>\n",
              "      <th>total_pages</th>\n",
              "      <th>results</th>\n",
              "    </tr>\n",
              "  </thead>\n",
              "  <tbody>\n",
              "    <tr>\n",
              "      <th>0</th>\n",
              "      <td>51732</td>\n",
              "      <td>1725</td>\n",
              "      <td>{'id': 'BBhY-e1XsT0', 'created_at': '2017-11-0...</td>\n",
              "    </tr>\n",
              "    <tr>\n",
              "      <th>1</th>\n",
              "      <td>51732</td>\n",
              "      <td>1725</td>\n",
              "      <td>{'id': 'i4OHxtxiMtk', 'created_at': '2015-09-0...</td>\n",
              "    </tr>\n",
              "    <tr>\n",
              "      <th>2</th>\n",
              "      <td>51732</td>\n",
              "      <td>1725</td>\n",
              "      <td>{'id': '4nulm-JUYFo', 'created_at': '2017-07-2...</td>\n",
              "    </tr>\n",
              "    <tr>\n",
              "      <th>3</th>\n",
              "      <td>51732</td>\n",
              "      <td>1725</td>\n",
              "      <td>{'id': 'DlCjD1RdQnE', 'created_at': '2017-12-2...</td>\n",
              "    </tr>\n",
              "    <tr>\n",
              "      <th>4</th>\n",
              "      <td>51732</td>\n",
              "      <td>1725</td>\n",
              "      <td>{'id': 'iSmTwuKTNDo', 'created_at': '2019-12-0...</td>\n",
              "    </tr>\n",
              "    <tr>\n",
              "      <th>5</th>\n",
              "      <td>51732</td>\n",
              "      <td>1725</td>\n",
              "      <td>{'id': 'g3OqMfRfo_8', 'created_at': '2016-08-2...</td>\n",
              "    </tr>\n",
              "    <tr>\n",
              "      <th>6</th>\n",
              "      <td>51732</td>\n",
              "      <td>1725</td>\n",
              "      <td>{'id': '7KHCNCddn2U', 'created_at': '2016-09-2...</td>\n",
              "    </tr>\n",
              "    <tr>\n",
              "      <th>7</th>\n",
              "      <td>51732</td>\n",
              "      <td>1725</td>\n",
              "      <td>{'id': 'oyy71fLMZCY', 'created_at': '2018-11-2...</td>\n",
              "    </tr>\n",
              "    <tr>\n",
              "      <th>8</th>\n",
              "      <td>51732</td>\n",
              "      <td>1725</td>\n",
              "      <td>{'id': 'k_R6MvBjtMM', 'created_at': '2018-03-0...</td>\n",
              "    </tr>\n",
              "    <tr>\n",
              "      <th>9</th>\n",
              "      <td>51732</td>\n",
              "      <td>1725</td>\n",
              "      <td>{'id': 'u6LGX2VMOP4', 'created_at': '2015-08-1...</td>\n",
              "    </tr>\n",
              "    <tr>\n",
              "      <th>10</th>\n",
              "      <td>51732</td>\n",
              "      <td>1725</td>\n",
              "      <td>{'id': 'GVeJ-TXWJ1g', 'created_at': '2017-06-0...</td>\n",
              "    </tr>\n",
              "    <tr>\n",
              "      <th>11</th>\n",
              "      <td>51732</td>\n",
              "      <td>1725</td>\n",
              "      <td>{'id': '7UuMFnZqt7M', 'created_at': '2017-07-2...</td>\n",
              "    </tr>\n",
              "    <tr>\n",
              "      <th>12</th>\n",
              "      <td>51732</td>\n",
              "      <td>1725</td>\n",
              "      <td>{'id': 'tqar8J3fZ3o', 'created_at': '2016-04-0...</td>\n",
              "    </tr>\n",
              "    <tr>\n",
              "      <th>13</th>\n",
              "      <td>51732</td>\n",
              "      <td>1725</td>\n",
              "      <td>{'id': 'bpxgyD4YYt4', 'created_at': '2017-04-1...</td>\n",
              "    </tr>\n",
              "    <tr>\n",
              "      <th>14</th>\n",
              "      <td>51732</td>\n",
              "      <td>1725</td>\n",
              "      <td>{'id': 'NIsQJv2jyw0', 'created_at': '2018-08-2...</td>\n",
              "    </tr>\n",
              "    <tr>\n",
              "      <th>15</th>\n",
              "      <td>51732</td>\n",
              "      <td>1725</td>\n",
              "      <td>{'id': 'brZT6bdt6NA', 'created_at': '2017-11-2...</td>\n",
              "    </tr>\n",
              "    <tr>\n",
              "      <th>16</th>\n",
              "      <td>51732</td>\n",
              "      <td>1725</td>\n",
              "      <td>{'id': 'RrD8ypt8cjY', 'created_at': '2017-07-1...</td>\n",
              "    </tr>\n",
              "    <tr>\n",
              "      <th>17</th>\n",
              "      <td>51732</td>\n",
              "      <td>1725</td>\n",
              "      <td>{'id': 'askAk8cXTlg', 'created_at': '2019-05-0...</td>\n",
              "    </tr>\n",
              "    <tr>\n",
              "      <th>18</th>\n",
              "      <td>51732</td>\n",
              "      <td>1725</td>\n",
              "      <td>{'id': 'aU_eOcelLhQ', 'created_at': '2018-11-1...</td>\n",
              "    </tr>\n",
              "    <tr>\n",
              "      <th>19</th>\n",
              "      <td>51732</td>\n",
              "      <td>1725</td>\n",
              "      <td>{'id': 'q65bNe9fW-w', 'created_at': '2017-05-2...</td>\n",
              "    </tr>\n",
              "    <tr>\n",
              "      <th>20</th>\n",
              "      <td>51732</td>\n",
              "      <td>1725</td>\n",
              "      <td>{'id': 'SxdomihWXRU', 'created_at': '2017-05-1...</td>\n",
              "    </tr>\n",
              "    <tr>\n",
              "      <th>21</th>\n",
              "      <td>51732</td>\n",
              "      <td>1725</td>\n",
              "      <td>{'id': 'p63g4kQAt_4', 'created_at': '2017-05-2...</td>\n",
              "    </tr>\n",
              "    <tr>\n",
              "      <th>22</th>\n",
              "      <td>51732</td>\n",
              "      <td>1725</td>\n",
              "      <td>{'id': 'KchIV_GDy6U', 'created_at': '2018-11-2...</td>\n",
              "    </tr>\n",
              "    <tr>\n",
              "      <th>23</th>\n",
              "      <td>51732</td>\n",
              "      <td>1725</td>\n",
              "      <td>{'id': 'D14VNyYE160', 'created_at': '2019-01-2...</td>\n",
              "    </tr>\n",
              "    <tr>\n",
              "      <th>24</th>\n",
              "      <td>51732</td>\n",
              "      <td>1725</td>\n",
              "      <td>{'id': 'lotr1HIu_O8', 'created_at': '2018-05-3...</td>\n",
              "    </tr>\n",
              "    <tr>\n",
              "      <th>25</th>\n",
              "      <td>51732</td>\n",
              "      <td>1725</td>\n",
              "      <td>{'id': 'Sv9xCQ7RBCs', 'created_at': '2017-10-3...</td>\n",
              "    </tr>\n",
              "    <tr>\n",
              "      <th>26</th>\n",
              "      <td>51732</td>\n",
              "      <td>1725</td>\n",
              "      <td>{'id': 'pVsi_lmyvL8', 'created_at': '2018-01-2...</td>\n",
              "    </tr>\n",
              "    <tr>\n",
              "      <th>27</th>\n",
              "      <td>51732</td>\n",
              "      <td>1725</td>\n",
              "      <td>{'id': 'O15EA5W8rmI', 'created_at': '2017-09-0...</td>\n",
              "    </tr>\n",
              "    <tr>\n",
              "      <th>28</th>\n",
              "      <td>51732</td>\n",
              "      <td>1725</td>\n",
              "      <td>{'id': 'XbxQbS1NMKE', 'created_at': '2018-01-0...</td>\n",
              "    </tr>\n",
              "    <tr>\n",
              "      <th>29</th>\n",
              "      <td>51732</td>\n",
              "      <td>1725</td>\n",
              "      <td>{'id': '3judqYDYWEw', 'created_at': '2017-06-2...</td>\n",
              "    </tr>\n",
              "  </tbody>\n",
              "</table>\n",
              "</div>"
            ],
            "text/plain": [
              "    total  total_pages                                            results\n",
              "0   51732         1725  {'id': 'BBhY-e1XsT0', 'created_at': '2017-11-0...\n",
              "1   51732         1725  {'id': 'i4OHxtxiMtk', 'created_at': '2015-09-0...\n",
              "2   51732         1725  {'id': '4nulm-JUYFo', 'created_at': '2017-07-2...\n",
              "3   51732         1725  {'id': 'DlCjD1RdQnE', 'created_at': '2017-12-2...\n",
              "4   51732         1725  {'id': 'iSmTwuKTNDo', 'created_at': '2019-12-0...\n",
              "5   51732         1725  {'id': 'g3OqMfRfo_8', 'created_at': '2016-08-2...\n",
              "6   51732         1725  {'id': '7KHCNCddn2U', 'created_at': '2016-09-2...\n",
              "7   51732         1725  {'id': 'oyy71fLMZCY', 'created_at': '2018-11-2...\n",
              "8   51732         1725  {'id': 'k_R6MvBjtMM', 'created_at': '2018-03-0...\n",
              "9   51732         1725  {'id': 'u6LGX2VMOP4', 'created_at': '2015-08-1...\n",
              "10  51732         1725  {'id': 'GVeJ-TXWJ1g', 'created_at': '2017-06-0...\n",
              "11  51732         1725  {'id': '7UuMFnZqt7M', 'created_at': '2017-07-2...\n",
              "12  51732         1725  {'id': 'tqar8J3fZ3o', 'created_at': '2016-04-0...\n",
              "13  51732         1725  {'id': 'bpxgyD4YYt4', 'created_at': '2017-04-1...\n",
              "14  51732         1725  {'id': 'NIsQJv2jyw0', 'created_at': '2018-08-2...\n",
              "15  51732         1725  {'id': 'brZT6bdt6NA', 'created_at': '2017-11-2...\n",
              "16  51732         1725  {'id': 'RrD8ypt8cjY', 'created_at': '2017-07-1...\n",
              "17  51732         1725  {'id': 'askAk8cXTlg', 'created_at': '2019-05-0...\n",
              "18  51732         1725  {'id': 'aU_eOcelLhQ', 'created_at': '2018-11-1...\n",
              "19  51732         1725  {'id': 'q65bNe9fW-w', 'created_at': '2017-05-2...\n",
              "20  51732         1725  {'id': 'SxdomihWXRU', 'created_at': '2017-05-1...\n",
              "21  51732         1725  {'id': 'p63g4kQAt_4', 'created_at': '2017-05-2...\n",
              "22  51732         1725  {'id': 'KchIV_GDy6U', 'created_at': '2018-11-2...\n",
              "23  51732         1725  {'id': 'D14VNyYE160', 'created_at': '2019-01-2...\n",
              "24  51732         1725  {'id': 'lotr1HIu_O8', 'created_at': '2018-05-3...\n",
              "25  51732         1725  {'id': 'Sv9xCQ7RBCs', 'created_at': '2017-10-3...\n",
              "26  51732         1725  {'id': 'pVsi_lmyvL8', 'created_at': '2018-01-2...\n",
              "27  51732         1725  {'id': 'O15EA5W8rmI', 'created_at': '2017-09-0...\n",
              "28  51732         1725  {'id': 'XbxQbS1NMKE', 'created_at': '2018-01-0...\n",
              "29  51732         1725  {'id': '3judqYDYWEw', 'created_at': '2017-06-2..."
            ]
          },
          "metadata": {
            "tags": []
          },
          "execution_count": 17
        }
      ]
    },
    {
      "cell_type": "code",
      "metadata": {
        "id": "ctkrGwQ7Qus9"
      },
      "source": [
        "#installing jq\n",
        "!sudo apt-get install jq\n",
        "\n",
        "#using jq on our json\n",
        "!jq < base_images.json"
      ],
      "execution_count": null,
      "outputs": []
    },
    {
      "cell_type": "code",
      "metadata": {
        "id": "R6DGLJ2hQ5ua",
        "outputId": "97800e1c-dcf9-43fd-ffcc-77f5ad9ffffa",
        "colab": {
          "base_uri": "https://localhost:8080/"
        }
      },
      "source": [
        "#turning the .json into an array and using jq to filter only for our regular urls\n",
        "base_images_array = !jq -r '.results[].urls.regular' < base_images.json\n",
        "\n",
        "#setting up a for loop in order to efficiently download all of our images\n",
        "portrait_counter = 150\n",
        "for image in base_images_array:\n",
        "  portrait_counter += 1\n",
        "  !curl -o portrait_\"$portrait_counter\".jpg --globoff $image"
      ],
      "execution_count": 18,
      "outputs": [
        {
          "output_type": "stream",
          "text": [
            "  % Total    % Received % Xferd  Average Speed   Time    Time     Time  Current\n",
            "                                 Dload  Upload   Total   Spent    Left  Speed\n",
            "100 11.1M  100 11.1M    0     0  14.8M      0 --:--:-- --:--:-- --:--:-- 14.8M\n",
            "  % Total    % Received % Xferd  Average Speed   Time    Time     Time  Current\n",
            "                                 Dload  Upload   Total   Spent    Left  Speed\n",
            "100 4676k  100 4676k    0     0  9079k      0 --:--:-- --:--:-- --:--:-- 9079k\n",
            "  % Total    % Received % Xferd  Average Speed   Time    Time     Time  Current\n",
            "                                 Dload  Upload   Total   Spent    Left  Speed\n",
            "100 14.6M  100 14.6M    0     0  12.0M      0  0:00:01  0:00:01 --:--:-- 12.0M\n",
            "  % Total    % Received % Xferd  Average Speed   Time    Time     Time  Current\n",
            "                                 Dload  Upload   Total   Spent    Left  Speed\n",
            "100 5999k  100 5999k    0     0  17.1M      0 --:--:-- --:--:-- --:--:-- 17.1M\n",
            "  % Total    % Received % Xferd  Average Speed   Time    Time     Time  Current\n",
            "                                 Dload  Upload   Total   Spent    Left  Speed\n",
            "100 7718k  100 7718k    0     0  13.0M      0 --:--:-- --:--:-- --:--:-- 13.0M\n",
            "  % Total    % Received % Xferd  Average Speed   Time    Time     Time  Current\n",
            "                                 Dload  Upload   Total   Spent    Left  Speed\n",
            "100 4445k  100 4445k    0     0  6945k      0 --:--:-- --:--:-- --:--:-- 6945k\n",
            "  % Total    % Received % Xferd  Average Speed   Time    Time     Time  Current\n",
            "                                 Dload  Upload   Total   Spent    Left  Speed\n",
            "100 1307k  100 1307k    0     0  4738k      0 --:--:-- --:--:-- --:--:-- 4738k\n",
            "  % Total    % Received % Xferd  Average Speed   Time    Time     Time  Current\n",
            "                                 Dload  Upload   Total   Spent    Left  Speed\n",
            "100  823k  100  823k    0     0  5082k      0 --:--:-- --:--:-- --:--:-- 5051k\n",
            "  % Total    % Received % Xferd  Average Speed   Time    Time     Time  Current\n",
            "                                 Dload  Upload   Total   Spent    Left  Speed\n",
            "100 1183k  100 1183k    0     0  5635k      0 --:--:-- --:--:-- --:--:-- 5635k\n",
            "  % Total    % Received % Xferd  Average Speed   Time    Time     Time  Current\n",
            "                                 Dload  Upload   Total   Spent    Left  Speed\n",
            "100 11.2M  100 11.2M    0     0  12.6M      0 --:--:-- --:--:-- --:--:-- 12.6M\n",
            "  % Total    % Received % Xferd  Average Speed   Time    Time     Time  Current\n",
            "                                 Dload  Upload   Total   Spent    Left  Speed\n",
            "100 2260k  100 2260k    0     0  7220k      0 --:--:-- --:--:-- --:--:-- 7220k\n",
            "  % Total    % Received % Xferd  Average Speed   Time    Time     Time  Current\n",
            "                                 Dload  Upload   Total   Spent    Left  Speed\n",
            "100 5992k  100 5992k    0     0  5350k      0  0:00:01  0:00:01 --:--:-- 5350k\n",
            "  % Total    % Received % Xferd  Average Speed   Time    Time     Time  Current\n",
            "                                 Dload  Upload   Total   Spent    Left  Speed\n",
            "100 1034k  100 1034k    0     0  5360k      0 --:--:-- --:--:-- --:--:-- 5332k\n",
            "  % Total    % Received % Xferd  Average Speed   Time    Time     Time  Current\n",
            "                                 Dload  Upload   Total   Spent    Left  Speed\n",
            "100 3452k  100 3452k    0     0  7237k      0 --:--:-- --:--:-- --:--:-- 7237k\n",
            "  % Total    % Received % Xferd  Average Speed   Time    Time     Time  Current\n",
            "                                 Dload  Upload   Total   Spent    Left  Speed\n",
            "100 4803k  100 4803k    0     0  10.8M      0 --:--:-- --:--:-- --:--:-- 10.8M\n",
            "  % Total    % Received % Xferd  Average Speed   Time    Time     Time  Current\n",
            "                                 Dload  Upload   Total   Spent    Left  Speed\n",
            "100 4020k  100 4020k    0     0  9327k      0 --:--:-- --:--:-- --:--:-- 9327k\n",
            "  % Total    % Received % Xferd  Average Speed   Time    Time     Time  Current\n",
            "                                 Dload  Upload   Total   Spent    Left  Speed\n",
            "100 9726k  100 9726k    0     0  98.9M      0 --:--:-- --:--:-- --:--:-- 98.9M\n",
            "  % Total    % Received % Xferd  Average Speed   Time    Time     Time  Current\n",
            "                                 Dload  Upload   Total   Spent    Left  Speed\n",
            "100 13.6M  100 13.6M    0     0  8109k      0  0:00:01  0:00:01 --:--:-- 8104k\n",
            "  % Total    % Received % Xferd  Average Speed   Time    Time     Time  Current\n",
            "                                 Dload  Upload   Total   Spent    Left  Speed\n",
            "100 6499k  100 6499k    0     0  12.3M      0 --:--:-- --:--:-- --:--:-- 12.3M\n",
            "  % Total    % Received % Xferd  Average Speed   Time    Time     Time  Current\n",
            "                                 Dload  Upload   Total   Spent    Left  Speed\n",
            "100 2015k  100 2015k    0     0  22.8M      0 --:--:-- --:--:-- --:--:-- 22.8M\n",
            "  % Total    % Received % Xferd  Average Speed   Time    Time     Time  Current\n",
            "                                 Dload  Upload   Total   Spent    Left  Speed\n",
            "100 4490k  100 4490k    0     0  9163k      0 --:--:-- --:--:-- --:--:-- 9163k\n",
            "  % Total    % Received % Xferd  Average Speed   Time    Time     Time  Current\n",
            "                                 Dload  Upload   Total   Spent    Left  Speed\n",
            "100 15.7M  100 15.7M    0     0  21.5M      0 --:--:-- --:--:-- --:--:-- 21.5M\n",
            "  % Total    % Received % Xferd  Average Speed   Time    Time     Time  Current\n",
            "                                 Dload  Upload   Total   Spent    Left  Speed\n",
            "100 4149k  100 4149k    0     0  6801k      0 --:--:-- --:--:-- --:--:-- 6801k\n",
            "  % Total    % Received % Xferd  Average Speed   Time    Time     Time  Current\n",
            "                                 Dload  Upload   Total   Spent    Left  Speed\n",
            "100 5497k  100 5497k    0     0  11.3M      0 --:--:-- --:--:-- --:--:-- 11.3M\n",
            "  % Total    % Received % Xferd  Average Speed   Time    Time     Time  Current\n",
            "                                 Dload  Upload   Total   Spent    Left  Speed\n",
            "100 6229k  100 6229k    0     0  56.8M      0 --:--:-- --:--:-- --:--:-- 56.8M\n",
            "  % Total    % Received % Xferd  Average Speed   Time    Time     Time  Current\n",
            "                                 Dload  Upload   Total   Spent    Left  Speed\n",
            "100 4697k  100 4697k    0     0  8555k      0 --:--:-- --:--:-- --:--:-- 8540k\n",
            "  % Total    % Received % Xferd  Average Speed   Time    Time     Time  Current\n",
            "                                 Dload  Upload   Total   Spent    Left  Speed\n",
            "100 7838k  100 7838k    0     0  17.5M      0 --:--:-- --:--:-- --:--:-- 17.5M\n",
            "  % Total    % Received % Xferd  Average Speed   Time    Time     Time  Current\n",
            "                                 Dload  Upload   Total   Spent    Left  Speed\n",
            "100 5669k  100 5669k    0     0  17.9M      0 --:--:-- --:--:-- --:--:-- 17.9M\n",
            "  % Total    % Received % Xferd  Average Speed   Time    Time     Time  Current\n",
            "                                 Dload  Upload   Total   Spent    Left  Speed\n",
            "100 11.8M  100 11.8M    0     0  8269k      0  0:00:01  0:00:01 --:--:-- 8263k\n",
            "  % Total    % Received % Xferd  Average Speed   Time    Time     Time  Current\n",
            "                                 Dload  Upload   Total   Spent    Left  Speed\n",
            "100  452k  100  452k    0     0  2557k      0 --:--:-- --:--:-- --:--:-- 2557k\n"
          ],
          "name": "stdout"
        }
      ]
    },
    {
      "cell_type": "code",
      "metadata": {
        "id": "Ch7Q_3E6nZxQ",
        "outputId": "fba3c719-e341-4c42-eb74-c9f1f9e25fcc",
        "colab": {
          "base_uri": "https://localhost:8080/"
        }
      },
      "source": [
        "#checking the images are there\n",
        "!ls"
      ],
      "execution_count": 28,
      "outputs": [
        {
          "output_type": "stream",
          "text": [
            "base_images.json  drive  sample_data\n"
          ],
          "name": "stdout"
        }
      ]
    },
    {
      "cell_type": "code",
      "metadata": {
        "id": "juZTkrtRqFd7"
      },
      "source": [
        "#blurring the images for comparison\n",
        "for i in range(31,181):\n",
        "  im = Image.open(f\"portrait_{i}.jpg\")\n",
        "  im1 = im.filter(ImageFilter.GaussianBlur(radius=10))\n",
        "  im1.save(f\"portrait_{i}_blurred.jpg\",\"JPEG\")\n"
      ],
      "execution_count": 20,
      "outputs": []
    },
    {
      "cell_type": "code",
      "metadata": {
        "id": "VuooM6qrVLCB",
        "outputId": "e869cf5f-24a7-4f88-c730-3ee4eebc4d77",
        "colab": {
          "base_uri": "https://localhost:8080/",
          "height": 17
        }
      },
      "source": [
        "files.download(f\"portrait_60.jpg\")"
      ],
      "execution_count": null,
      "outputs": [
        {
          "output_type": "display_data",
          "data": {
            "application/javascript": [
              "\n",
              "    async function download(id, filename, size) {\n",
              "      if (!google.colab.kernel.accessAllowed) {\n",
              "        return;\n",
              "      }\n",
              "      const div = document.createElement('div');\n",
              "      const label = document.createElement('label');\n",
              "      label.textContent = `Downloading \"${filename}\": `;\n",
              "      div.appendChild(label);\n",
              "      const progress = document.createElement('progress');\n",
              "      progress.max = size;\n",
              "      div.appendChild(progress);\n",
              "      document.body.appendChild(div);\n",
              "\n",
              "      const buffers = [];\n",
              "      let downloaded = 0;\n",
              "\n",
              "      const channel = await google.colab.kernel.comms.open(id);\n",
              "      // Send a message to notify the kernel that we're ready.\n",
              "      channel.send({})\n",
              "\n",
              "      for await (const message of channel.messages) {\n",
              "        // Send a message to notify the kernel that we're ready.\n",
              "        channel.send({})\n",
              "        if (message.buffers) {\n",
              "          for (const buffer of message.buffers) {\n",
              "            buffers.push(buffer);\n",
              "            downloaded += buffer.byteLength;\n",
              "            progress.value = downloaded;\n",
              "          }\n",
              "        }\n",
              "      }\n",
              "      const blob = new Blob(buffers, {type: 'application/binary'});\n",
              "      const a = document.createElement('a');\n",
              "      a.href = window.URL.createObjectURL(blob);\n",
              "      a.download = filename;\n",
              "      div.appendChild(a);\n",
              "      a.click();\n",
              "      div.remove();\n",
              "    }\n",
              "  "
            ],
            "text/plain": [
              "<IPython.core.display.Javascript object>"
            ]
          },
          "metadata": {
            "tags": []
          }
        },
        {
          "output_type": "display_data",
          "data": {
            "application/javascript": [
              "download(\"download_0a32abf0-6c28-4f3f-b4ec-f724254d2804\", \"portrait_60.jpg\", 4190483)"
            ],
            "text/plain": [
              "<IPython.core.display.Javascript object>"
            ]
          },
          "metadata": {
            "tags": []
          }
        }
      ]
    },
    {
      "cell_type": "code",
      "metadata": {
        "id": "-BnFdWzAl13X"
      },
      "source": [
        "#moving the files into google drive\n",
        "for i in range(31, 181):\n",
        "  shutil.move(f\"/content/portrait_{i}.jpg\", \"/content/drive/My Drive/QTM 350 Project Images/base_images\")\n",
        "  shutil.move(f\"/content/portrait_{i}_blurred.jpg\", \"/content/drive/My Drive/QTM 350 Project Images/blurred_images\")"
      ],
      "execution_count": 27,
      "outputs": []
    }
  ]
}