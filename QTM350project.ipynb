{
  "nbformat": 4,
  "nbformat_minor": 0,
  "metadata": {
    "colab": {
      "name": "QTM350project",
      "provenance": [],
      "collapsed_sections": [],
      "mount_file_id": "1_UN8F6vZMc8iLUj1KUNxGoE11SXvzadu",
      "authorship_tag": "ABX9TyPma4TJmSM/rlZO0uAkzvl6",
      "include_colab_link": true
    },
    "kernelspec": {
      "display_name": "Python 3",
      "name": "python3"
    },
    "accelerator": "GPU"
  },
  "cells": [
    {
      "cell_type": "markdown",
      "metadata": {
        "id": "view-in-github",
        "colab_type": "text"
      },
      "source": [
        "<a href=\"https://colab.research.google.com/github/addishp/QTM350_aws_project/blob/main/QTM350project.ipynb\" target=\"_parent\"><img src=\"https://colab.research.google.com/assets/colab-badge.svg\" alt=\"Open In Colab\"/></a>"
      ]
    },
    {
      "cell_type": "code",
      "metadata": {
        "id": "jeDyPzGqsoXP",
        "outputId": "984a9f09-b1b9-4368-eea3-312729894034",
        "colab": {
          "base_uri": "https://localhost:8080/"
        }
      },
      "source": [
        "!pip install Pillow\n",
        "\n",
        "import shutil\n",
        "from PIL import Image, ImageFilter\n",
        "import requests\n",
        "import getpass\n",
        "import json\n",
        "import pandas as pd"
      ],
      "execution_count": 23,
      "outputs": [
        {
          "output_type": "stream",
          "text": [
            "Requirement already satisfied: Pillow in /usr/local/lib/python3.6/dist-packages (7.0.0)\n"
          ],
          "name": "stdout"
        }
      ]
    },
    {
      "cell_type": "code",
      "metadata": {
        "id": "YK9NsrxxtiCn",
        "outputId": "fb761c28-cda5-4e66-8fcb-47278c28a850",
        "colab": {
          "base_uri": "https://localhost:8080/"
        }
      },
      "source": [
        "#Hiding API secret key in variable\n",
        "APIKEY = getpass.getpass(prompt=\"Please Enter the API Key.\")"
      ],
      "execution_count": 3,
      "outputs": [
        {
          "output_type": "stream",
          "text": [
            "Please Enter the API Key.··········\n"
          ],
          "name": "stdout"
        }
      ]
    },
    {
      "cell_type": "code",
      "metadata": {
        "id": "aSAF3Wzit3Ny"
      },
      "source": [
        "#getting the .json from the API for the urls we need\n",
        "!curl --request GET -o base_images.json \"https://api.unsplash.com/search/photos?per_page=50&query=portrait&page=6&client_id=$APIKEY\"\n",
        "\n",
        "#checking it worked\n",
        "pd.read_json(\"base_images.json\")"
      ],
      "execution_count": null,
      "outputs": []
    },
    {
      "cell_type": "code",
      "metadata": {
        "id": "ctkrGwQ7Qus9"
      },
      "source": [
        "#installing jq\n",
        "!sudo apt-get install jq\n",
        "\n",
        "#using jq on our json\n",
        "!jq < base_images.json"
      ],
      "execution_count": null,
      "outputs": []
    },
    {
      "cell_type": "code",
      "metadata": {
        "id": "R6DGLJ2hQ5ua"
      },
      "source": [
        "#turning the .json into an array and using jq to filter only for our regular urls\n",
        "base_images_array = !jq -r '.results[].urls.regular' < base_images.json\n",
        "\n",
        "#setting up a for loop in order to efficiently download all of our images\n",
        "portrait_counter = 150\n",
        "for image in base_images_array:\n",
        "  portrait_counter += 1\n",
        "  !curl -o portrait_\"$portrait_counter\".jpg --globoff $image"
      ],
      "execution_count": null,
      "outputs": []
    },
    {
      "cell_type": "code",
      "metadata": {
        "id": "Ch7Q_3E6nZxQ"
      },
      "source": [
        "#checking the images are there\n",
        "!ls"
      ],
      "execution_count": null,
      "outputs": []
    },
    {
      "cell_type": "code",
      "metadata": {
        "id": "juZTkrtRqFd7"
      },
      "source": [
        "#blurring the images for comparison\n",
        "for i in range(31,181):\n",
        "  im = Image.open(f\"portrait_{i}.jpg\")\n",
        "  im1 = im.filter(ImageFilter.GaussianBlur(radius=10))\n",
        "  im1.save(f\"portrait_{i}_blurred.jpg\",\"JPEG\")\n"
      ],
      "execution_count": 20,
      "outputs": []
    },
    {
      "cell_type": "code",
      "metadata": {
        "id": "-BnFdWzAl13X"
      },
      "source": [
        "#moving the files into google drive\n",
        "for i in range(31, 181):\n",
        "  shutil.move(f\"/content/portrait_{i}.jpg\", \"/content/drive/My Drive/QTM 350 Project Images/base_images\")\n",
        "  shutil.move(f\"/content/portrait_{i}_blurred.jpg\", \"/content/drive/My Drive/QTM 350 Project Images/blurred_images\")"
      ],
      "execution_count": 27,
      "outputs": []
    }
  ]
}