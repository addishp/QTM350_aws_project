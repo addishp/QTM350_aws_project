{
  "nbformat": 4,
  "nbformat_minor": 0,
  "metadata": {
    "colab": {
      "name": "Final Copy of QTM 350 data analysis",
      "provenance": [],
      "collapsed_sections": [
        "otGLV7X3-r5E",
        "9DAtM8A2gQRP",
        "sdrO3fM0zGkV",
        "iyP6KsQhSlGj",
        "4YoFGMIs8k3g",
        "K4vW2jzvJ8we",
        "ZfTszhKBfZbg",
        "Nq6C-nfAgsZ6",
        "3jyNvos4fy77",
        "_ALPqGRzhqpw",
        "YDKXLS7daNS3",
        "ETPw4iZ_1WD1"
      ],
      "include_colab_link": true
    },
    "kernelspec": {
      "name": "python3",
      "display_name": "Python 3"
    }
  },
  "cells": [
    {
      "cell_type": "markdown",
      "metadata": {
        "id": "view-in-github",
        "colab_type": "text"
      },
      "source": [
        "<a href=\"https://colab.research.google.com/github/addishp/QTM350_aws_project/blob/main/QTM_350_data_analysis.ipynb\" target=\"_parent\"><img src=\"https://colab.research.google.com/assets/colab-badge.svg\" alt=\"Open In Colab\"/></a>"
      ]
    },
    {
      "cell_type": "markdown",
      "metadata": {
        "id": "otGLV7X3-r5E"
      },
      "source": [
        "# Setup"
      ]
    },
    {
      "cell_type": "code",
      "metadata": {
        "id": "CtcQ_zNzM7S3"
      },
      "source": [
        "import pandas as pd\n",
        "import numpy as np\n",
        "import seaborn as sns\n",
        "from collections import Counter\n",
        "import itertools\n",
        "import warnings\n",
        "import matplotlib.pyplot as plt\n"
      ],
      "execution_count": null,
      "outputs": []
    },
    {
      "cell_type": "code",
      "metadata": {
        "id": "PwGAWt9iNKTa"
      },
      "source": [
        "dataframe = pd.read_csv('https://raw.githubusercontent.com/addishp/QTM350_aws_project/main/final-data-updated2.csv',index_col=0)\n",
        "sc_labels = pd.read_csv('https://raw.githubusercontent.com/addishp/QTM350_aws_project/main/image_skin_color_labels.csv', index_col = 0)"
      ],
      "execution_count": null,
      "outputs": []
    },
    {
      "cell_type": "markdown",
      "metadata": {
        "id": "xCRgHkBXPw0b"
      },
      "source": [
        "Our dataframe's features are from the output of AWS Rekognition. We created white_nonwhite labels for the portraits of each image and add this as a column to our dataset."
      ]
    },
    {
      "cell_type": "code",
      "metadata": {
        "id": "_0aZo-p4PRJN",
        "colab": {
          "base_uri": "https://localhost:8080/",
          "height": 428
        },
        "outputId": "a45feac9-a411-4f6f-ef45-cd8e8213e9ab"
      },
      "source": [
        "sc_labels"
      ],
      "execution_count": null,
      "outputs": [
        {
          "output_type": "execute_result",
          "data": {
            "text/html": [
              "<div>\n",
              "<style scoped>\n",
              "    .dataframe tbody tr th:only-of-type {\n",
              "        vertical-align: middle;\n",
              "    }\n",
              "\n",
              "    .dataframe tbody tr th {\n",
              "        vertical-align: top;\n",
              "    }\n",
              "\n",
              "    .dataframe thead th {\n",
              "        text-align: right;\n",
              "    }\n",
              "</style>\n",
              "<table border=\"1\" class=\"dataframe\">\n",
              "  <thead>\n",
              "    <tr style=\"text-align: right;\">\n",
              "      <th></th>\n",
              "      <th>filename</th>\n",
              "      <th>white_non_white_label</th>\n",
              "    </tr>\n",
              "    <tr>\n",
              "      <th>label_index</th>\n",
              "      <th></th>\n",
              "      <th></th>\n",
              "    </tr>\n",
              "  </thead>\n",
              "  <tbody>\n",
              "    <tr>\n",
              "      <th>0</th>\n",
              "      <td>portrait_1.jpg</td>\n",
              "      <td>white</td>\n",
              "    </tr>\n",
              "    <tr>\n",
              "      <th>1</th>\n",
              "      <td>portrait_2.jpg</td>\n",
              "      <td>white</td>\n",
              "    </tr>\n",
              "    <tr>\n",
              "      <th>2</th>\n",
              "      <td>portrait_3.jpg</td>\n",
              "      <td>white</td>\n",
              "    </tr>\n",
              "    <tr>\n",
              "      <th>3</th>\n",
              "      <td>portrait_4.jpg</td>\n",
              "      <td>white</td>\n",
              "    </tr>\n",
              "    <tr>\n",
              "      <th>4</th>\n",
              "      <td>portrait_5.jpg</td>\n",
              "      <td>white</td>\n",
              "    </tr>\n",
              "    <tr>\n",
              "      <th>...</th>\n",
              "      <td>...</td>\n",
              "      <td>...</td>\n",
              "    </tr>\n",
              "    <tr>\n",
              "      <th>170</th>\n",
              "      <td>portrait_175.jpg</td>\n",
              "      <td>white</td>\n",
              "    </tr>\n",
              "    <tr>\n",
              "      <th>171</th>\n",
              "      <td>portrait_176.jpg</td>\n",
              "      <td>white</td>\n",
              "    </tr>\n",
              "    <tr>\n",
              "      <th>172</th>\n",
              "      <td>portrait_177.jpg</td>\n",
              "      <td>white</td>\n",
              "    </tr>\n",
              "    <tr>\n",
              "      <th>173</th>\n",
              "      <td>portrait_179.jpg</td>\n",
              "      <td>white</td>\n",
              "    </tr>\n",
              "    <tr>\n",
              "      <th>174</th>\n",
              "      <td>portrait_180.jpg</td>\n",
              "      <td>white</td>\n",
              "    </tr>\n",
              "  </tbody>\n",
              "</table>\n",
              "<p>175 rows × 2 columns</p>\n",
              "</div>"
            ],
            "text/plain": [
              "                     filename white_non_white_label\n",
              "label_index                                        \n",
              "0              portrait_1.jpg                 white\n",
              "1              portrait_2.jpg                 white\n",
              "2              portrait_3.jpg                 white\n",
              "3              portrait_4.jpg                 white\n",
              "4              portrait_5.jpg                 white\n",
              "...                       ...                   ...\n",
              "170          portrait_175.jpg                 white\n",
              "171          portrait_176.jpg                 white\n",
              "172          portrait_177.jpg                 white\n",
              "173          portrait_179.jpg                 white\n",
              "174          portrait_180.jpg                 white\n",
              "\n",
              "[175 rows x 2 columns]"
            ]
          },
          "metadata": {
            "tags": []
          },
          "execution_count": 4
        }
      ]
    },
    {
      "cell_type": "code",
      "metadata": {
        "id": "QHxrNmimPWqG"
      },
      "source": [
        "dataframe['sc_label'] = sc_labels['white_non_white_label']"
      ],
      "execution_count": null,
      "outputs": []
    },
    {
      "cell_type": "code",
      "metadata": {
        "id": "OA5DbX4QPr-o",
        "colab": {
          "base_uri": "https://localhost:8080/"
        },
        "outputId": "21c273b1-8f8c-4cd1-a530-d2260c0e1841"
      },
      "source": [
        "dataframe.columns"
      ],
      "execution_count": null,
      "outputs": [
        {
          "output_type": "execute_result",
          "data": {
            "text/plain": [
              "Index(['filename', 'ageLow', 'ageHigh', 'gender', 'genderConfidence',\n",
              "       'emotion', 'emotionConfidence', 'b_filename', 'b_ageLow', 'b_ageHigh',\n",
              "       'b_gender', 'b_genderConf', 'b_emotion', 'b_emotionConf', 'sc_label'],\n",
              "      dtype='object')"
            ]
          },
          "metadata": {
            "tags": []
          },
          "execution_count": 6
        }
      ]
    },
    {
      "cell_type": "markdown",
      "metadata": {
        "id": "9DAtM8A2gQRP"
      },
      "source": [
        "#Data Analysis"
      ]
    },
    {
      "cell_type": "markdown",
      "metadata": {
        "id": "CmwZqX5hgS23"
      },
      "source": [
        "### Data Exploration"
      ]
    },
    {
      "cell_type": "code",
      "metadata": {
        "id": "nPDpsSxORuxN",
        "colab": {
          "base_uri": "https://localhost:8080/",
          "height": 223
        },
        "outputId": "c422d50f-d508-44d7-aa85-7cb021e97f4c"
      },
      "source": [
        "dataframe.head(6)"
      ],
      "execution_count": null,
      "outputs": [
        {
          "output_type": "execute_result",
          "data": {
            "text/html": [
              "<div>\n",
              "<style scoped>\n",
              "    .dataframe tbody tr th:only-of-type {\n",
              "        vertical-align: middle;\n",
              "    }\n",
              "\n",
              "    .dataframe tbody tr th {\n",
              "        vertical-align: top;\n",
              "    }\n",
              "\n",
              "    .dataframe thead th {\n",
              "        text-align: right;\n",
              "    }\n",
              "</style>\n",
              "<table border=\"1\" class=\"dataframe\">\n",
              "  <thead>\n",
              "    <tr style=\"text-align: right;\">\n",
              "      <th></th>\n",
              "      <th>filename</th>\n",
              "      <th>ageLow</th>\n",
              "      <th>ageHigh</th>\n",
              "      <th>gender</th>\n",
              "      <th>genderConfidence</th>\n",
              "      <th>emotion</th>\n",
              "      <th>emotionConfidence</th>\n",
              "      <th>b_filename</th>\n",
              "      <th>b_ageLow</th>\n",
              "      <th>b_ageHigh</th>\n",
              "      <th>b_gender</th>\n",
              "      <th>b_genderConf</th>\n",
              "      <th>b_emotion</th>\n",
              "      <th>b_emotionConf</th>\n",
              "      <th>sc_label</th>\n",
              "    </tr>\n",
              "  </thead>\n",
              "  <tbody>\n",
              "    <tr>\n",
              "      <th>0</th>\n",
              "      <td>portrait_1.jpg</td>\n",
              "      <td>18</td>\n",
              "      <td>30</td>\n",
              "      <td>Female</td>\n",
              "      <td>92.99</td>\n",
              "      <td>CALM</td>\n",
              "      <td>63.34</td>\n",
              "      <td>portrait_1_blurred.jpg</td>\n",
              "      <td>13</td>\n",
              "      <td>23</td>\n",
              "      <td>Female</td>\n",
              "      <td>99.63</td>\n",
              "      <td>CALM</td>\n",
              "      <td>84.28</td>\n",
              "      <td>white</td>\n",
              "    </tr>\n",
              "    <tr>\n",
              "      <th>1</th>\n",
              "      <td>portrait_2.jpg</td>\n",
              "      <td>13</td>\n",
              "      <td>25</td>\n",
              "      <td>Female</td>\n",
              "      <td>99.98</td>\n",
              "      <td>HAPPY</td>\n",
              "      <td>99.99</td>\n",
              "      <td>portrait_2_blurred.jpg</td>\n",
              "      <td>19</td>\n",
              "      <td>31</td>\n",
              "      <td>Female</td>\n",
              "      <td>99.98</td>\n",
              "      <td>HAPPY</td>\n",
              "      <td>99.99</td>\n",
              "      <td>white</td>\n",
              "    </tr>\n",
              "    <tr>\n",
              "      <th>2</th>\n",
              "      <td>portrait_3.jpg</td>\n",
              "      <td>22</td>\n",
              "      <td>34</td>\n",
              "      <td>Male</td>\n",
              "      <td>98.97</td>\n",
              "      <td>HAPPY</td>\n",
              "      <td>86.23</td>\n",
              "      <td>portrait_3_blurred.jpg</td>\n",
              "      <td>23</td>\n",
              "      <td>37</td>\n",
              "      <td>Male</td>\n",
              "      <td>97.53</td>\n",
              "      <td>HAPPY</td>\n",
              "      <td>96.63</td>\n",
              "      <td>white</td>\n",
              "    </tr>\n",
              "    <tr>\n",
              "      <th>3</th>\n",
              "      <td>portrait_4.jpg</td>\n",
              "      <td>21</td>\n",
              "      <td>33</td>\n",
              "      <td>Male</td>\n",
              "      <td>99.89</td>\n",
              "      <td>CALM</td>\n",
              "      <td>72.04</td>\n",
              "      <td>portrait_4_blurred.jpg</td>\n",
              "      <td>20</td>\n",
              "      <td>32</td>\n",
              "      <td>Male</td>\n",
              "      <td>99.65</td>\n",
              "      <td>CALM</td>\n",
              "      <td>94.40</td>\n",
              "      <td>white</td>\n",
              "    </tr>\n",
              "    <tr>\n",
              "      <th>4</th>\n",
              "      <td>portrait_5.jpg</td>\n",
              "      <td>22</td>\n",
              "      <td>34</td>\n",
              "      <td>Female</td>\n",
              "      <td>99.58</td>\n",
              "      <td>CALM</td>\n",
              "      <td>50.50</td>\n",
              "      <td>portrait_5_blurred.jpg</td>\n",
              "      <td>23</td>\n",
              "      <td>35</td>\n",
              "      <td>Female</td>\n",
              "      <td>99.37</td>\n",
              "      <td>CALM</td>\n",
              "      <td>54.59</td>\n",
              "      <td>white</td>\n",
              "    </tr>\n",
              "    <tr>\n",
              "      <th>5</th>\n",
              "      <td>portrait_6.jpg</td>\n",
              "      <td>29</td>\n",
              "      <td>45</td>\n",
              "      <td>Male</td>\n",
              "      <td>99.73</td>\n",
              "      <td>CALM</td>\n",
              "      <td>97.31</td>\n",
              "      <td>portrait_6_blurred.jpg</td>\n",
              "      <td>26</td>\n",
              "      <td>42</td>\n",
              "      <td>Male</td>\n",
              "      <td>99.49</td>\n",
              "      <td>CALM</td>\n",
              "      <td>98.48</td>\n",
              "      <td>non_white</td>\n",
              "    </tr>\n",
              "  </tbody>\n",
              "</table>\n",
              "</div>"
            ],
            "text/plain": [
              "         filename  ageLow  ageHigh  ... b_emotion  b_emotionConf   sc_label\n",
              "0  portrait_1.jpg      18       30  ...      CALM          84.28      white\n",
              "1  portrait_2.jpg      13       25  ...     HAPPY          99.99      white\n",
              "2  portrait_3.jpg      22       34  ...     HAPPY          96.63      white\n",
              "3  portrait_4.jpg      21       33  ...      CALM          94.40      white\n",
              "4  portrait_5.jpg      22       34  ...      CALM          54.59      white\n",
              "5  portrait_6.jpg      29       45  ...      CALM          98.48  non_white\n",
              "\n",
              "[6 rows x 15 columns]"
            ]
          },
          "metadata": {
            "tags": []
          },
          "execution_count": 7
        }
      ]
    },
    {
      "cell_type": "code",
      "metadata": {
        "id": "wFICCnXRNVgm"
      },
      "source": [
        "meta_data = dataframe[['filename','b_filename']]\n",
        "dataframe = dataframe.drop(labels = ['filename','b_filename'], axis = 1)"
      ],
      "execution_count": null,
      "outputs": []
    },
    {
      "cell_type": "code",
      "metadata": {
        "id": "kT-Ep1yoNlpP",
        "colab": {
          "base_uri": "https://localhost:8080/",
          "height": 300
        },
        "outputId": "c3b280cc-7c6c-45af-cada-20c8701df6e9"
      },
      "source": [
        "summary = dataframe.describe()\n",
        "print('These are the summary stats for our collected data')\n",
        "summary"
      ],
      "execution_count": null,
      "outputs": [
        {
          "output_type": "stream",
          "text": [
            "These are the summary stats for our collected data\n"
          ],
          "name": "stdout"
        },
        {
          "output_type": "execute_result",
          "data": {
            "text/html": [
              "<div>\n",
              "<style scoped>\n",
              "    .dataframe tbody tr th:only-of-type {\n",
              "        vertical-align: middle;\n",
              "    }\n",
              "\n",
              "    .dataframe tbody tr th {\n",
              "        vertical-align: top;\n",
              "    }\n",
              "\n",
              "    .dataframe thead th {\n",
              "        text-align: right;\n",
              "    }\n",
              "</style>\n",
              "<table border=\"1\" class=\"dataframe\">\n",
              "  <thead>\n",
              "    <tr style=\"text-align: right;\">\n",
              "      <th></th>\n",
              "      <th>ageLow</th>\n",
              "      <th>ageHigh</th>\n",
              "      <th>genderConfidence</th>\n",
              "      <th>emotionConfidence</th>\n",
              "      <th>b_ageLow</th>\n",
              "      <th>b_ageHigh</th>\n",
              "      <th>b_genderConf</th>\n",
              "      <th>b_emotionConf</th>\n",
              "    </tr>\n",
              "  </thead>\n",
              "  <tbody>\n",
              "    <tr>\n",
              "      <th>count</th>\n",
              "      <td>175.000000</td>\n",
              "      <td>175.000000</td>\n",
              "      <td>175.000000</td>\n",
              "      <td>175.000000</td>\n",
              "      <td>175.000000</td>\n",
              "      <td>175.000000</td>\n",
              "      <td>175.000000</td>\n",
              "      <td>175.000000</td>\n",
              "    </tr>\n",
              "    <tr>\n",
              "      <th>mean</th>\n",
              "      <td>22.977143</td>\n",
              "      <td>35.817143</td>\n",
              "      <td>92.503257</td>\n",
              "      <td>82.092000</td>\n",
              "      <td>22.074286</td>\n",
              "      <td>34.662857</td>\n",
              "      <td>93.998171</td>\n",
              "      <td>83.783429</td>\n",
              "    </tr>\n",
              "    <tr>\n",
              "      <th>std</th>\n",
              "      <td>11.111739</td>\n",
              "      <td>13.595585</td>\n",
              "      <td>12.472649</td>\n",
              "      <td>18.380219</td>\n",
              "      <td>11.272496</td>\n",
              "      <td>13.587331</td>\n",
              "      <td>10.659225</td>\n",
              "      <td>17.580861</td>\n",
              "    </tr>\n",
              "    <tr>\n",
              "      <th>min</th>\n",
              "      <td>0.000000</td>\n",
              "      <td>3.000000</td>\n",
              "      <td>50.640000</td>\n",
              "      <td>31.240000</td>\n",
              "      <td>0.000000</td>\n",
              "      <td>3.000000</td>\n",
              "      <td>53.230000</td>\n",
              "      <td>31.300000</td>\n",
              "    </tr>\n",
              "    <tr>\n",
              "      <th>25%</th>\n",
              "      <td>17.000000</td>\n",
              "      <td>29.000000</td>\n",
              "      <td>93.255000</td>\n",
              "      <td>67.925000</td>\n",
              "      <td>16.000000</td>\n",
              "      <td>28.000000</td>\n",
              "      <td>95.320000</td>\n",
              "      <td>75.200000</td>\n",
              "    </tr>\n",
              "    <tr>\n",
              "      <th>50%</th>\n",
              "      <td>22.000000</td>\n",
              "      <td>34.000000</td>\n",
              "      <td>98.480000</td>\n",
              "      <td>89.560000</td>\n",
              "      <td>22.000000</td>\n",
              "      <td>34.000000</td>\n",
              "      <td>98.340000</td>\n",
              "      <td>91.490000</td>\n",
              "    </tr>\n",
              "    <tr>\n",
              "      <th>75%</th>\n",
              "      <td>24.000000</td>\n",
              "      <td>38.000000</td>\n",
              "      <td>99.525000</td>\n",
              "      <td>97.310000</td>\n",
              "      <td>23.000000</td>\n",
              "      <td>35.000000</td>\n",
              "      <td>99.530000</td>\n",
              "      <td>97.645000</td>\n",
              "    </tr>\n",
              "    <tr>\n",
              "      <th>max</th>\n",
              "      <td>56.000000</td>\n",
              "      <td>74.000000</td>\n",
              "      <td>99.980000</td>\n",
              "      <td>99.990000</td>\n",
              "      <td>58.000000</td>\n",
              "      <td>76.000000</td>\n",
              "      <td>99.980000</td>\n",
              "      <td>99.990000</td>\n",
              "    </tr>\n",
              "  </tbody>\n",
              "</table>\n",
              "</div>"
            ],
            "text/plain": [
              "           ageLow     ageHigh  ...  b_genderConf  b_emotionConf\n",
              "count  175.000000  175.000000  ...    175.000000     175.000000\n",
              "mean    22.977143   35.817143  ...     93.998171      83.783429\n",
              "std     11.111739   13.595585  ...     10.659225      17.580861\n",
              "min      0.000000    3.000000  ...     53.230000      31.300000\n",
              "25%     17.000000   29.000000  ...     95.320000      75.200000\n",
              "50%     22.000000   34.000000  ...     98.340000      91.490000\n",
              "75%     24.000000   38.000000  ...     99.530000      97.645000\n",
              "max     56.000000   74.000000  ...     99.980000      99.990000\n",
              "\n",
              "[8 rows x 8 columns]"
            ]
          },
          "metadata": {
            "tags": []
          },
          "execution_count": 9
        }
      ]
    },
    {
      "cell_type": "code",
      "metadata": {
        "id": "Sv-ZScevCQCp"
      },
      "source": [
        "#Let's pair variables we will look at together\n",
        "vars_genderConf = ['genderConfidence','b_genderConf']\n",
        "vars_low_age = ['ageLow','b_ageLow'] \n",
        "vars_high_age = ['ageHigh','b_ageHigh'] \n",
        "vars_emotionConf = ['emotionConfidence','b_emotionConf']\n",
        "vars_emotion = ['emotion','b_emotion']\n",
        "vars_gender = ['gender', 'b_gender']"
      ],
      "execution_count": null,
      "outputs": []
    },
    {
      "cell_type": "markdown",
      "metadata": {
        "id": "o9zhWwITrEDL"
      },
      "source": [
        "###Visualizing the distributions for variables before and after blur\n",
        "Now we will look at the distributions for each variable before and after the blur."
      ]
    },
    {
      "cell_type": "code",
      "metadata": {
        "id": "82dlW3TEq2bs"
      },
      "source": [
        "#first we want a palette of colors we can use\n",
        "colors = itertools.cycle(sns.color_palette())\n"
      ],
      "execution_count": null,
      "outputs": []
    },
    {
      "cell_type": "code",
      "metadata": {
        "id": "S6X6xk45rxjl"
      },
      "source": [
        "def plot_together(dataframe, vars, colors_palette):\n",
        "  #want to ignore deprecation error since I want to stack\n",
        "  #different distribution of columns together\n",
        "  warnings.filterwarnings(\"ignore\", category=FutureWarning) \n",
        "\n",
        "  sns.histplot(dataframe[vars[0]], color = next(colors_palette), label = vars[0] )\n",
        "  sns.histplot(dataframe[vars[1]], color = next(colors_palette), label = vars[1] )\n",
        "  plt.title('Distribution of ' + vars[0] + ' and ' + vars[1])\n",
        "  plt.legend()"
      ],
      "execution_count": null,
      "outputs": []
    },
    {
      "cell_type": "code",
      "metadata": {
        "id": "nEM2Krluhmwk"
      },
      "source": [
        "def get_stat(data_summary, variable, kind):\n",
        "  stat = data_summary[variable][kind]\n",
        "  stat = round(stat,3)\n",
        "  return stat\n",
        "\n",
        "#this will help us refer to specific stats when we look at visualizations"
      ],
      "execution_count": null,
      "outputs": []
    },
    {
      "cell_type": "code",
      "metadata": {
        "id": "3Av1ISLr3XqV"
      },
      "source": [
        "def pct_change(whole, part):\n",
        "  if whole == 0:\n",
        "    return \"n/a\"\n",
        "  change = (round(100 * (float(part) - float(whole))/float(whole), 3))\n",
        "  return str(change)+\"%\""
      ],
      "execution_count": null,
      "outputs": []
    },
    {
      "cell_type": "code",
      "metadata": {
        "id": "8yBqA7mR2iew"
      },
      "source": [
        "def get_change_overall(value1, value2, stat):\n",
        "  if value2 > value1:\n",
        "    statement = \"The change in the \" + stat + \" was +\" + str(round(value2-value1, 2)) + \" (\" + pct_change(value1,value2) + \")\"\n",
        "  else: \n",
        "    statement = \"The change in the \" + stat + \" was \" + str(round(value2-value1, 2)) + \" (\" + pct_change(value1,value2) + \")\"\n",
        "  return statement"
      ],
      "execution_count": null,
      "outputs": []
    },
    {
      "cell_type": "markdown",
      "metadata": {
        "id": "sdrO3fM0zGkV"
      },
      "source": [
        "# Looking at Age:"
      ]
    },
    {
      "cell_type": "markdown",
      "metadata": {
        "id": "oc6edBL7zd3E"
      },
      "source": [
        "We found that the mean age high and mean age low both decreased after images were blurred. The standard deviation also decreases for both variables meaning that the distribution of ages predicted is more similar. This makes sense as the blurring filter softens wrinkles on faces and ML model would consider them to be younger. \n",
        "\n",
        "In the visualization, we can also see the left tail of low age shifts to the right after blurring, suggesting that people who look younger before the blurring now look a bit older to the model. This could suggest that for young people who don't have many wrinkles and spots, the blurring filter makes their facial features less apparent, so the machine is less able to detect their true age. "
      ]
    },
    {
      "cell_type": "markdown",
      "metadata": {
        "id": "7f8FZ47feNkz"
      },
      "source": [
        "###Low age variable distribution before and after blur"
      ]
    },
    {
      "cell_type": "code",
      "metadata": {
        "id": "18kaUuvPcdqR",
        "colab": {
          "base_uri": "https://localhost:8080/"
        },
        "outputId": "2249ddaf-a4b6-4308-b366-16513c1120df"
      },
      "source": [
        "vars = vars_low_age\n",
        "plot_together(dataframe, vars, colors)\n",
        "\n",
        "shared_var_name = 'low end of age'\n",
        "stat = 'mean'\n",
        "result1 = get_stat(summary,vars[0],stat)\n",
        "result2 = get_stat(summary,vars[1],stat)\n",
        "print(\"The \" + stat +  \" for predicted \" + shared_var_name + \" is \" + str(result1) + \" before blurring and is \" + str(result2) + \" after blurring.\" )\n",
        "change = get_change_overall(result1, result2, stat)\n",
        "print(change)\n",
        "\n",
        "stat = 'std'\n",
        "result1 = get_stat(summary,vars[0],stat)\n",
        "result2 = get_stat(summary,vars[1],stat)\n",
        "print(\"The \" + stat +  \" for predicted \" + shared_var_name + \" is \" + str(result1) + \" before blurring and is \" + str(result2) + \" after blurring.\" )\n",
        "change = get_change_overall(result1, result2, stat)\n",
        "print(change)"
      ],
      "execution_count": null,
      "outputs": [
        {
          "output_type": "stream",
          "text": [
            "The mean for predicted low end of age is 22.977 before blurring and is 22.074 after blurring.\n",
            "The change in the mean was -0.9 (-3.93%)\n",
            "The std for predicted low end of age is 11.112 before blurring and is 11.272 after blurring.\n",
            "The change in the std was +0.16 (1.44%)\n"
          ],
          "name": "stdout"
        },
        {
          "output_type": "display_data",
          "data": {
            "image/png": "[encoded data removed]",
            "text/plain": [
              "<Figure size 432x288 with 1 Axes>"
            ]
          },
          "metadata": {
            "tags": [],
            "needs_background": "light"
          }
        }
      ]
    },
    {
      "cell_type": "markdown",
      "metadata": {
        "id": "io7omd4neZw5"
      },
      "source": [
        "###High age variable distribution before and after blur\n"
      ]
    },
    {
      "cell_type": "code",
      "metadata": {
        "id": "H7Qtz7gxcefV",
        "colab": {
          "base_uri": "https://localhost:8080/"
        },
        "outputId": "88f3937c-f291-460b-ce76-ec0d604575e3"
      },
      "source": [
        "vars = vars_high_age\n",
        "plot_together(dataframe, vars, colors)\n",
        "\n",
        "shared_var_name = 'high end of age'\n",
        "stat = 'mean'\n",
        "result1 = get_stat(summary,vars[0],stat)\n",
        "result2 = get_stat(summary,vars[1],stat)\n",
        "print(\"The \" + stat +  \" for predicted \" + shared_var_name + \" is \" + str(result1) + \" before blurring and is \" + str(result2) + \" after blurring.\" )\n",
        "change = get_change_overall(result1, result2, stat)\n",
        "print(change)\n",
        "\n",
        "print('')\n",
        "\n",
        "stat = 'std'\n",
        "result1 = get_stat(summary,vars[0],stat)\n",
        "result2 = get_stat(summary,vars[1],stat)\n",
        "print(\"The \" + stat +  \" for predicted \" + shared_var_name + \" is \" + str(result1) + \" before blurring and is \" + str(result2) + \" after blurring.\" )\n",
        "change = get_change_overall(result1, result2, stat)\n",
        "print(change)\n"
      ],
      "execution_count": null,
      "outputs": [
        {
          "output_type": "stream",
          "text": [
            "The mean for predicted high end of age is 35.817 before blurring and is 34.663 after blurring.\n",
            "The change in the mean was -1.15 (-3.222%)\n",
            "\n",
            "The std for predicted high end of age is 13.596 before blurring and is 13.587 after blurring.\n",
            "The change in the std was -0.01 (-0.066%)\n"
          ],
          "name": "stdout"
        },
        {
          "output_type": "display_data",
          "data": {
            "image/png": "[encoded data removed]",
            "text/plain": [
              "<Figure size 432x288 with 1 Axes>"
            ]
          },
          "metadata": {
            "tags": [],
            "needs_background": "light"
          }
        }
      ]
    },
    {
      "cell_type": "markdown",
      "metadata": {
        "id": "iyP6KsQhSlGj"
      },
      "source": [
        "# Looking at Emotion Confidence:"
      ]
    },
    {
      "cell_type": "markdown",
      "metadata": {
        "id": "9jda0mUEDant"
      },
      "source": [
        "Now, we would like to use boxplot to show the distribution of the emotion confidence score before and after we blur the pictures.\n",
        "1. emotionConfidence represents the machine's emotion confidence score for the picture before blurring.\n",
        "2. b_emotionConf represents the machine's emotion confidence score for the picture after blurring."
      ]
    },
    {
      "cell_type": "markdown",
      "metadata": {
        "id": "h_HITaPoSlGk"
      },
      "source": [
        "For emotion, we saw that the mean confidence in the emotion predicted increases 1.7 unit after the image is blurred. We also see that the standard deviation in gender confidence scores decreases after blurring. This means that the emotion confidence score varies less after blurring. These are interesting results as it went against our guess. Our guess is that since detail is lost after blurring, AWS Rekognition should exhbit less confidence and more variations in the emotion recognition scores. \n",
        "\n"
      ]
    },
    {
      "cell_type": "code",
      "metadata": {
        "id": "0LCAsumIhGdT",
        "colab": {
          "base_uri": "https://localhost:8080/",
          "height": 384
        },
        "outputId": "e3e22ac9-1379-4c1f-fc85-27fc0d389055"
      },
      "source": [
        "vars = vars_emotionConf\n",
        "plot_together(dataframe, vars, colors)\n",
        "\n",
        "shared_var_name = 'emotion confidence'\n",
        "stat = 'mean'\n",
        "result1 = get_stat(summary,vars[0],stat)\n",
        "result2 = get_stat(summary,vars[1],stat)\n",
        "print(\"The \" + stat +  \" for predicted \" + shared_var_name + \" is \" + str(result1) + \" before blurring and is \" + str(result2) + \" after blurring.\" )\n",
        "change = get_change_overall(result1, result2, stat)\n",
        "print(change)\n",
        "\n",
        "print('')\n",
        "\n",
        "stat = 'std'\n",
        "result1 = get_stat(summary,vars[0],stat)\n",
        "result2 = get_stat(summary,vars[1],stat)\n",
        "print(\"The \" + stat +  \" for predicted \" + shared_var_name + \" is \" + str(result1) + \" before blurring and is \" + str(result2) + \" after blurring.\" )\n",
        "change = get_change_overall(result1, result2, stat)\n",
        "print(change)"
      ],
      "execution_count": null,
      "outputs": [
        {
          "output_type": "stream",
          "text": [
            "The mean for predicted emotion confidence is 82.092 before blurring and is 83.783 after blurring.\n",
            "The change in the mean was +1.69 (2.06%)\n",
            "\n",
            "The std for predicted emotion confidence is 18.38 before blurring and is 17.581 after blurring.\n",
            "The change in the std was -0.8 (-4.347%)\n"
          ],
          "name": "stdout"
        },
        {
          "output_type": "display_data",
          "data": {
            "image/png": "[encoded data removed]",
            "text/plain": [
              "<Figure size 432x288 with 1 Axes>"
            ]
          },
          "metadata": {
            "tags": [],
            "needs_background": "light"
          }
        }
      ]
    },
    {
      "cell_type": "markdown",
      "metadata": {
        "id": "Gk11MvCwDanz"
      },
      "source": [
        "##Hypothesis Testing"
      ]
    },
    {
      "cell_type": "markdown",
      "metadata": {
        "id": "Eq9huPAADanz"
      },
      "source": [
        "To further examine the difference between the distribution of the two groups, we computed a 95% confidence interval for their means, assuming a normal distribution. Our sample size is only 100+, which is not large enough, so we choose to use T-tests. T-tests are most useful when we need to determine if there is a statistically significant difference between two independent sample groups"
      ]
    },
    {
      "cell_type": "code",
      "metadata": {
        "id": "gGX4hRWLDan0",
        "colab": {
          "base_uri": "https://localhost:8080/"
        },
        "outputId": "905b9aab-23af-49b1-ebb1-6f989cde6125"
      },
      "source": [
        "import statsmodels.stats.api as sms\n",
        "\n",
        "sms.DescrStatsW(dataframe['emotionConfidence']).tconfint_mean()"
      ],
      "execution_count": null,
      "outputs": [
        {
          "output_type": "execute_result",
          "data": {
            "text/plain": [
              "(79.3497255092295, 84.83427449077053)"
            ]
          },
          "metadata": {
            "tags": []
          },
          "execution_count": 19
        }
      ]
    },
    {
      "cell_type": "code",
      "metadata": {
        "id": "aJXMpSVpDan3",
        "colab": {
          "base_uri": "https://localhost:8080/"
        },
        "outputId": "74184717-bd81-4b2d-fed0-7b3e6c953cd9"
      },
      "source": [
        "sms.DescrStatsW(dataframe['b_emotionConf']).tconfint_mean()"
      ],
      "execution_count": null,
      "outputs": [
        {
          "output_type": "execute_result",
          "data": {
            "text/plain": [
              "(81.16041598304761, 86.40644115980953)"
            ]
          },
          "metadata": {
            "tags": []
          },
          "execution_count": 20
        }
      ]
    },
    {
      "cell_type": "markdown",
      "metadata": {
        "id": "KX4YG8y2Dan5"
      },
      "source": [
        "The result shows that the confidence interval for the means of the two groups is almost identical. However, the lower limit is about two and a half units higher for scores of pictures after blurring and the upper limit is about one unit higher for scores of pictures after blurring, which is quite surprising. We expected that the mean of gender confidence scores in normal pictures should be higher than the mean of the scores in pictures after blurring."
      ]
    },
    {
      "cell_type": "markdown",
      "metadata": {
        "id": "QgGZ52-YDan5"
      },
      "source": [
        "##Scatter Plot"
      ]
    },
    {
      "cell_type": "markdown",
      "metadata": {
        "id": "F-l0LJqGDan6"
      },
      "source": [
        "We also use scatter plots to visually display the relationship between the two groups of emotion confidence score. "
      ]
    },
    {
      "cell_type": "code",
      "metadata": {
        "id": "Nz3VFZ9xDan6",
        "colab": {
          "base_uri": "https://localhost:8080/",
          "height": 297
        },
        "outputId": "5a112b86-4bf6-4bf5-dcdc-420aa296f0f5"
      },
      "source": [
        "plt.plot(dataframe['emotionConfidence'], dataframe['b_emotionConf'], 'o', alpha=0.3, markersize=10)\n",
        "plt.ylabel(\"after blurring\")\n",
        "plt.xlabel(\"before blurring\")"
      ],
      "execution_count": null,
      "outputs": [
        {
          "output_type": "execute_result",
          "data": {
            "text/plain": [
              "Text(0.5, 0, 'before blurring')"
            ]
          },
          "metadata": {
            "tags": []
          },
          "execution_count": 21
        },
        {
          "output_type": "display_data",
          "data": {
            "image/png": "[encoded data removed]",
            "text/plain": [
              "<Figure size 432x288 with 1 Axes>"
            ]
          },
          "metadata": {
            "tags": [],
            "needs_background": "light"
          }
        }
      ]
    },
    {
      "cell_type": "markdown",
      "metadata": {
        "id": "_NX7lZ7XDan8"
      },
      "source": [
        "As we have observed that most dots are clustered around emotoion confidence score(before blurring) >95, we created a new dataframe to display the dots in that range."
      ]
    },
    {
      "cell_type": "code",
      "metadata": {
        "id": "KmM4b0ZIDan8"
      },
      "source": [
        "df_over_95_e = dataframe[dataframe['emotionConfidence']>95]"
      ],
      "execution_count": null,
      "outputs": []
    },
    {
      "cell_type": "code",
      "metadata": {
        "id": "YJzoBkKoDan-",
        "colab": {
          "base_uri": "https://localhost:8080/",
          "height": 297
        },
        "outputId": "49dc8669-321e-470d-c55e-752721addad9"
      },
      "source": [
        "plt.plot(df_over_95_e['emotionConfidence'], df_over_95_e['b_emotionConf'], 'o', alpha=0.3, markersize=10)\n",
        "plt.ylabel(\"after blurring\")\n",
        "plt.xlabel(\"before blurring\")"
      ],
      "execution_count": null,
      "outputs": [
        {
          "output_type": "execute_result",
          "data": {
            "text/plain": [
              "Text(0.5, 0, 'before blurring')"
            ]
          },
          "metadata": {
            "tags": []
          },
          "execution_count": 23
        },
        {
          "output_type": "display_data",
          "data": {
            "image/png": "[encoded data removed]",
            "text/plain": [
              "<Figure size 432x288 with 1 Axes>"
            ]
          },
          "metadata": {
            "tags": [],
            "needs_background": "light"
          }
        }
      ]
    },
    {
      "cell_type": "markdown",
      "metadata": {
        "id": "DRtbIELbDaoB"
      },
      "source": [
        "##Regression Analysis"
      ]
    },
    {
      "cell_type": "markdown",
      "metadata": {
        "id": "tSNYkwzLDaoC"
      },
      "source": [
        "###Hypothesis"
      ]
    },
    {
      "cell_type": "markdown",
      "metadata": {
        "id": "c6BxEgJbDaoC"
      },
      "source": [
        "We proposed a question before conducting the regression analysis - if we know a picture's emotion confidence score in AWS, what will be its emotion confidence score after we apply the blurring filter? Will it increase or decrease?\n",
        "\n",
        "Our hypothesis is that blurring the image would lower its emotion confidence score in AWS. We want to use regression analysis to answer this question. "
      ]
    },
    {
      "cell_type": "markdown",
      "metadata": {
        "id": "VhPZNLzRDaoC"
      },
      "source": [
        "###All Pictures"
      ]
    },
    {
      "cell_type": "markdown",
      "metadata": {
        "id": "hbmvRa4HDaoD"
      },
      "source": [
        "In the following analysis, we included all pictures, and we tested the relationship between the emotion confidence score before blurring and the emotion confidence score after blurring."
      ]
    },
    {
      "cell_type": "code",
      "metadata": {
        "id": "4WQDLbBoDaoD"
      },
      "source": [
        "import statsmodels.formula.api as smf"
      ],
      "execution_count": null,
      "outputs": []
    },
    {
      "cell_type": "code",
      "metadata": {
        "id": "M3lLkZuzDaoE"
      },
      "source": [
        "results_e = smf.ols('b_emotionConf ~ emotionConfidence', data=dataframe).fit()"
      ],
      "execution_count": null,
      "outputs": []
    },
    {
      "cell_type": "code",
      "metadata": {
        "id": "Hkh6itTvDaoG",
        "colab": {
          "base_uri": "https://localhost:8080/"
        },
        "outputId": "220f1922-e172-4d06-8b35-7a269ec1a0cc"
      },
      "source": [
        "results_e.params"
      ],
      "execution_count": null,
      "outputs": [
        {
          "output_type": "execute_result",
          "data": {
            "text/plain": [
              "Intercept            31.031639\n",
              "emotionConfidence     0.642594\n",
              "dtype: float64"
            ]
          },
          "metadata": {
            "tags": []
          },
          "execution_count": 26
        }
      ]
    },
    {
      "cell_type": "code",
      "metadata": {
        "id": "lrGAo5KLDaoI",
        "colab": {
          "base_uri": "https://localhost:8080/",
          "height": 297
        },
        "outputId": "ad636f83-342a-4922-c45e-20213c0f03b7"
      },
      "source": [
        "plt.plot(dataframe['emotionConfidence'],dataframe['b_emotionConf'], 'o', alpha=0.3, markersize=10)\n",
        "plt.ylabel(\"after blurring\")\n",
        "plt.xlabel(\"before blurring\")\n",
        "plt.plot(dataframe['emotionConfidence'], results_e.predict(dataframe['emotionConfidence']))"
      ],
      "execution_count": null,
      "outputs": [
        {
          "output_type": "execute_result",
          "data": {
            "text/plain": [
              "[<matplotlib.lines.Line2D at 0x7f240ae8bf98>]"
            ]
          },
          "metadata": {
            "tags": []
          },
          "execution_count": 27
        },
        {
          "output_type": "display_data",
          "data": {
            "image/png": "[encoded data removed]",
            "text/plain": [
              "<Figure size 432x288 with 1 Axes>"
            ]
          },
          "metadata": {
            "tags": [],
            "needs_background": "light"
          }
        }
      ]
    },
    {
      "cell_type": "markdown",
      "metadata": {
        "id": "1-Qr6YelDaoL"
      },
      "source": [
        "As you could observe from the plot, we discovered a positive relationship between the emotion confidence score before blurring and the emotion confidence score after blurring. We have a regression slope of ~+0.642. A positive coefficient indicates that a picture's emotion confidence score in AWS will increase after we apply the blurring filter. Considering the range of confidence score before blurring is 100 and after blurring is also 100, +0.642 is a fairly small impact. However, this was still a surprising founding, because we expected the blurring filter to hinder the machine's ability to detect one's emotion and to lower the emotion confidence score. However, through our analysis, we found that blurring the images actually slightly improved the machine's confidence score about emotion detection. Our guess is that AWS Rekognition over simplifies some facial features when it is calculating the emotion. When we blurred the images, some facial details were lost, which made it easier for the machine to simplify the facial features and thus improved its confidence score."
      ]
    },
    {
      "cell_type": "markdown",
      "metadata": {
        "id": "BRaErTOHDaoM"
      },
      "source": [
        "###New Range"
      ]
    },
    {
      "cell_type": "markdown",
      "metadata": {
        "id": "rZyvBjEkDaoM"
      },
      "source": [
        "We test the same correlation with the new range - emotion confidence score(before blurring) >95"
      ]
    },
    {
      "cell_type": "code",
      "metadata": {
        "id": "M2FCtQb2DaoN"
      },
      "source": [
        "results_over_95_e = smf.ols('b_emotionConf ~ emotionConfidence', data=df_over_95_e).fit()"
      ],
      "execution_count": null,
      "outputs": []
    },
    {
      "cell_type": "code",
      "metadata": {
        "id": "3ou5tdlmDaoQ",
        "colab": {
          "base_uri": "https://localhost:8080/"
        },
        "outputId": "eee789a4-fb99-4ed3-a273-16c4289fa78b"
      },
      "source": [
        "results_over_95_e.params"
      ],
      "execution_count": null,
      "outputs": [
        {
          "output_type": "execute_result",
          "data": {
            "text/plain": [
              "Intercept           -36.468214\n",
              "emotionConfidence     1.355232\n",
              "dtype: float64"
            ]
          },
          "metadata": {
            "tags": []
          },
          "execution_count": 29
        }
      ]
    },
    {
      "cell_type": "code",
      "metadata": {
        "id": "LA7I1LSrDaoS",
        "colab": {
          "base_uri": "https://localhost:8080/",
          "height": 300
        },
        "outputId": "a5f8e499-410d-4961-ba00-45b608242bda"
      },
      "source": [
        "plt.plot(df_over_95_e['emotionConfidence'], df_over_95_e['b_emotionConf'], 'o', alpha=0.3, markersize=10)\n",
        "plt.ylabel(\"after blurring\")\n",
        "plt.ylim(95,100)\n",
        "plt.xlabel(\"before blurring\")\n",
        "plt.plot(df_over_95_e['emotionConfidence'], results_over_95_e.predict(df_over_95_e['emotionConfidence']))"
      ],
      "execution_count": null,
      "outputs": [
        {
          "output_type": "execute_result",
          "data": {
            "text/plain": [
              "[<matplotlib.lines.Line2D at 0x7f240addd588>]"
            ]
          },
          "metadata": {
            "tags": []
          },
          "execution_count": 30
        },
        {
          "output_type": "display_data",
          "data": {
            "image/png": "[encoded data removed]",
            "text/plain": [
              "<Figure size 432x288 with 1 Axes>"
            ]
          },
          "metadata": {
            "tags": [],
            "needs_background": "light"
          }
        }
      ]
    },
    {
      "cell_type": "markdown",
      "metadata": {
        "id": "RYmAd5pjDaoU"
      },
      "source": [
        "When we only look at pictures with original emotion confidence score >95, the positive relationship is less obvious. The slope of the new regression is ~+1.36, which is a lot higher than the slop of +0.642 that we discovered using all pictures. The result again reinforces our finding that a picture's emotion confidence score in AWS will increase after we apply the blurring filter. Again, this contradicts with our original hypothesis, but supports our theory that simplifying facial features makes it easier for the machine to detect pattern and calculate emotion. "
      ]
    },
    {
      "cell_type": "markdown",
      "metadata": {
        "id": "-VTCaxg81G_d"
      },
      "source": [
        "# Looking at Gender Confidence:"
      ]
    },
    {
      "cell_type": "markdown",
      "metadata": {
        "id": "2ZUu-n261MPh"
      },
      "source": [
        "For gender, we saw that the mean confidence in the gender predicted increases after the image is blurred. This was an interesting result as it went against what we thought. Since some details are lost after blurring an image, we expected AWS Rekognition to exhbit less confidence in it's gender prediction.\n",
        "\n",
        "We do see that the standard deviation in gender confidence score increases after blurring. This may mean that the confidence varies more after blurring. This suggests that for most pictures that already have high confidence in gender score predictions, blurring helps remove details that reduce confidence in the pre-blur gender prediction. Pictures that had low gender confidence scores will result in even lower scores after blurring the image."
      ]
    },
    {
      "cell_type": "code",
      "metadata": {
        "id": "aMrbpeXXg8VI",
        "colab": {
          "base_uri": "https://localhost:8080/",
          "height": 384
        },
        "outputId": "a3676e4a-0f11-4e87-ba86-77a558bcbc27"
      },
      "source": [
        "vars = vars_genderConf\n",
        "plot_together(dataframe, vars, colors)\n",
        "\n",
        "shared_var_name = 'gender confidence'\n",
        "stat = 'mean'\n",
        "result1 = get_stat(summary,vars[0],stat)\n",
        "result2 = get_stat(summary,vars[1],stat)\n",
        "print(\"The \" + stat +  \" for predicted \" + shared_var_name + \" is \" + str(result1) + \" before blurring and is \" + str(result2) + \" after blurring.\" )\n",
        "change = get_change_overall(result1, result2, stat)\n",
        "print(change)\n",
        "\n",
        "print('')\n",
        "\n",
        "stat = 'std'\n",
        "result1 = get_stat(summary,vars[0],stat)\n",
        "result2 = get_stat(summary,vars[1],stat)\n",
        "print(\"The \" + stat +  \" for predicted \" + shared_var_name + \" is \" + str(result1) + \" before blurring and is \" + str(result2) + \" after blurring.\" )\n",
        "change = get_change_overall(result1, result2, stat)\n",
        "print(change)"
      ],
      "execution_count": null,
      "outputs": [
        {
          "output_type": "stream",
          "text": [
            "The mean for predicted gender confidence is 92.503 before blurring and is 93.998 after blurring.\n",
            "The change in the mean was +1.5 (1.616%)\n",
            "\n",
            "The std for predicted gender confidence is 12.473 before blurring and is 10.659 after blurring.\n",
            "The change in the std was -1.81 (-14.543%)\n"
          ],
          "name": "stdout"
        },
        {
          "output_type": "display_data",
          "data": {
            "image/png": "[encoded data removed]",
            "text/plain": [
              "<Figure size 432x288 with 1 Axes>"
            ]
          },
          "metadata": {
            "tags": [],
            "needs_background": "light"
          }
        }
      ]
    },
    {
      "cell_type": "code",
      "metadata": {
        "id": "4Kj31_4aeVL7",
        "colab": {
          "base_uri": "https://localhost:8080/"
        },
        "outputId": "ac87d562-b14f-4133-cf31-3be4819f48fc"
      },
      "source": [
        "#Let's compare the number of males and females before and after blur\n",
        "gender_pre_blur = dataframe['gender']\n",
        "gender_post_blur = dataframe['b_gender']\n",
        "\n",
        "#This is a dictionary counter and we can get the number label was repeated\n",
        "gender_cnt_before = Counter(gender_pre_blur)\n",
        "gender_cnt_after = Counter(gender_post_blur)\n",
        "\n",
        "males = gender_cnt_before.get('Male')\n",
        "females = gender_cnt_before.get('Female')\n",
        "\n",
        "b_males = gender_cnt_after.get('Male')\n",
        "b_females = gender_cnt_after.get('Female')\n",
        "\n",
        "print('Before blur, AWS Rekognition predicted there are ' + str(males) + ' males and ' + str(females) + ' females in our dataset.')\n",
        "print('After blur, AWS Rekognition predicted there are ' + str(b_males) + ' males and ' + str(b_females) + ' females in our dataset.')"
      ],
      "execution_count": null,
      "outputs": [
        {
          "output_type": "stream",
          "text": [
            "Before blur, AWS Rekognition predicted there are 64 males and 111 females in our dataset.\n",
            "After blur, AWS Rekognition predicted there are 56 males and 119 females in our dataset.\n"
          ],
          "name": "stdout"
        }
      ]
    },
    {
      "cell_type": "markdown",
      "metadata": {
        "id": "X2s9EWClL72Q"
      },
      "source": [
        "After blurring, AWS identifies more females than before. This makes sense as males have sharper facial features, and blurring the image would soften edges on male faces. Therefore, the machine would miscalculate some males as females after blurring. "
      ]
    },
    {
      "cell_type": "markdown",
      "metadata": {
        "id": "_-62HV5OcacY"
      },
      "source": [
        "## Hypothesis Testing"
      ]
    },
    {
      "cell_type": "markdown",
      "metadata": {
        "id": "xnm2LdvIdVOW"
      },
      "source": [
        "To further examine the difference between the distribution of the two groups, we computed a 95% confidence interval for their means, assuming a normal distribution. Our sample size is only 100+, which is not large enough, so we choose to use T-tests. T-tests are most useful when we need to determine if there is a statistically significant difference between two independent sample groups"
      ]
    },
    {
      "cell_type": "code",
      "metadata": {
        "id": "tAJvzY9Rca2s",
        "colab": {
          "base_uri": "https://localhost:8080/"
        },
        "outputId": "1761e247-82a2-4d07-c847-a8832dbbd329"
      },
      "source": [
        "import statsmodels.stats.api as sms\n",
        "\n",
        "sms.DescrStatsW(dataframe['genderConfidence']).tconfint_mean()"
      ],
      "execution_count": null,
      "outputs": [
        {
          "output_type": "execute_result",
          "data": {
            "text/plain": [
              "(90.64237472842235, 94.36413955729195)"
            ]
          },
          "metadata": {
            "tags": []
          },
          "execution_count": 33
        }
      ]
    },
    {
      "cell_type": "code",
      "metadata": {
        "id": "4T4bU1accdWq",
        "colab": {
          "base_uri": "https://localhost:8080/"
        },
        "outputId": "cb80ed6e-fbe2-41fc-af5e-11e032891944"
      },
      "source": [
        "sms.DescrStatsW(dataframe['b_genderConf']).tconfint_mean()"
      ],
      "execution_count": null,
      "outputs": [
        {
          "output_type": "execute_result",
          "data": {
            "text/plain": [
              "(92.40784652570919, 95.58849633143363)"
            ]
          },
          "metadata": {
            "tags": []
          },
          "execution_count": 34
        }
      ]
    },
    {
      "cell_type": "markdown",
      "metadata": {
        "id": "If0Z7GHjeRIk"
      },
      "source": [
        "The result shows that both lower limit and upper limit of confidence interval increase after we blur the image. This is quite surprising, as we expected the mean of gender confidence scores in normal pictures to be higher than it in blurred pictures. "
      ]
    },
    {
      "cell_type": "markdown",
      "metadata": {
        "id": "EaVviPDVf5R3"
      },
      "source": [
        "## Scatter Plot"
      ]
    },
    {
      "cell_type": "markdown",
      "metadata": {
        "id": "fXmpZP5mL1DN"
      },
      "source": [
        "We also use scatter plots to visually display the relationship between the two groups of gender confidence score. "
      ]
    },
    {
      "cell_type": "code",
      "metadata": {
        "id": "NPa7KlSiOnVi",
        "colab": {
          "base_uri": "https://localhost:8080/",
          "height": 297
        },
        "outputId": "641f5d76-d7d8-4921-db9b-5079985e4d5a"
      },
      "source": [
        "plt.plot(dataframe['genderConfidence'], dataframe['b_genderConf'], 'o', alpha=0.3, markersize=10)\n",
        "plt.ylabel(\"after blurring\")\n",
        "plt.xlabel(\"before blurring\")"
      ],
      "execution_count": null,
      "outputs": [
        {
          "output_type": "execute_result",
          "data": {
            "text/plain": [
              "Text(0.5, 0, 'before blurring')"
            ]
          },
          "metadata": {
            "tags": []
          },
          "execution_count": 35
        },
        {
          "output_type": "display_data",
          "data": {
            "image/png": "[encoded data removed]",
            "text/plain": [
              "<Figure size 432x288 with 1 Axes>"
            ]
          },
          "metadata": {
            "tags": [],
            "needs_background": "light"
          }
        }
      ]
    },
    {
      "cell_type": "markdown",
      "metadata": {
        "id": "yttb36a3gPtA"
      },
      "source": [
        "As we have observed that most dots are clustered around gender confidence score(before blurring) ***>95***, we created a new dataframe to display the dots in that range."
      ]
    },
    {
      "cell_type": "code",
      "metadata": {
        "id": "6RDlAPpjQXL9"
      },
      "source": [
        "df_over_95_g = dataframe[dataframe['genderConfidence']>95]"
      ],
      "execution_count": null,
      "outputs": []
    },
    {
      "cell_type": "code",
      "metadata": {
        "id": "gYe-84dCQZRa",
        "colab": {
          "base_uri": "https://localhost:8080/",
          "height": 297
        },
        "outputId": "0a3b132d-44d7-4023-b9af-b6a38317c350"
      },
      "source": [
        "plt.plot(df_over_95_g['genderConfidence'], df_over_95_g['b_genderConf'], 'o', alpha=0.3, markersize=10)\n",
        "plt.ylabel(\"after blurring\")\n",
        "plt.xlabel(\"before blurring\")"
      ],
      "execution_count": null,
      "outputs": [
        {
          "output_type": "execute_result",
          "data": {
            "text/plain": [
              "Text(0.5, 0, 'before blurring')"
            ]
          },
          "metadata": {
            "tags": []
          },
          "execution_count": 37
        },
        {
          "output_type": "display_data",
          "data": {
            "image/png": "[encoded data removed]",
            "text/plain": [
              "<Figure size 432x288 with 1 Axes>"
            ]
          },
          "metadata": {
            "tags": [],
            "needs_background": "light"
          }
        }
      ]
    },
    {
      "cell_type": "markdown",
      "metadata": {
        "id": "qD_RkkUugAWg"
      },
      "source": [
        "## Regression Analysis"
      ]
    },
    {
      "cell_type": "markdown",
      "metadata": {
        "id": "e4spKwIpFkZO"
      },
      "source": [
        "#### Hypothesis"
      ]
    },
    {
      "cell_type": "markdown",
      "metadata": {
        "id": "kr3yQkc7Dd0S"
      },
      "source": [
        "We proposed a question before conducting the regression analysis - if we know a picture's gender confidence score in AWS, what will be its gender confidence score after we apply the blurring filter? Will it increase or decrease?\n",
        "\n",
        "Our hypothesis is that blurring the image would lower its gender confidence score in AWS. We want to use regression analysis to answer this question. "
      ]
    },
    {
      "cell_type": "markdown",
      "metadata": {
        "id": "k3jRdv0jJcDg"
      },
      "source": [
        "#### All Pictures"
      ]
    },
    {
      "cell_type": "markdown",
      "metadata": {
        "id": "oUYy34p_hNrf"
      },
      "source": [
        "In the following analysis, we included all pictures, and we tested the relationship between the gender confidence score before blurring and the gender confidence score after blurring. "
      ]
    },
    {
      "cell_type": "code",
      "metadata": {
        "id": "tK8iYoxZQffN"
      },
      "source": [
        "import statsmodels.formula.api as smf"
      ],
      "execution_count": null,
      "outputs": []
    },
    {
      "cell_type": "code",
      "metadata": {
        "id": "tIDJWZq2QhLB"
      },
      "source": [
        "results_g = smf.ols('b_genderConf~genderConfidence ', data=dataframe).fit()"
      ],
      "execution_count": null,
      "outputs": []
    },
    {
      "cell_type": "code",
      "metadata": {
        "id": "Qz2K2LHwgvVA",
        "colab": {
          "base_uri": "https://localhost:8080/"
        },
        "outputId": "a2edc7a1-c43b-4af0-ba3e-99df392eb201"
      },
      "source": [
        "results_g.params"
      ],
      "execution_count": null,
      "outputs": [
        {
          "output_type": "execute_result",
          "data": {
            "text/plain": [
              "Intercept           47.055507\n",
              "genderConfidence     0.507470\n",
              "dtype: float64"
            ]
          },
          "metadata": {
            "tags": []
          },
          "execution_count": 40
        }
      ]
    },
    {
      "cell_type": "code",
      "metadata": {
        "id": "kFRlE2Ifg2QM",
        "colab": {
          "base_uri": "https://localhost:8080/",
          "height": 297
        },
        "outputId": "a16f238d-558c-4541-d97e-85dd9ea6cc56"
      },
      "source": [
        "plt.plot(dataframe['genderConfidence'],dataframe['b_genderConf'], 'o', alpha=0.3, markersize=10)\n",
        "plt.ylabel(\"after blurring\")\n",
        "plt.xlabel(\"before blurring\")\n",
        "plt.plot(dataframe['genderConfidence'], results_g.predict(dataframe['genderConfidence']))"
      ],
      "execution_count": null,
      "outputs": [
        {
          "output_type": "execute_result",
          "data": {
            "text/plain": [
              "[<matplotlib.lines.Line2D at 0x7f240abda278>]"
            ]
          },
          "metadata": {
            "tags": []
          },
          "execution_count": 41
        },
        {
          "output_type": "display_data",
          "data": {
            "image/png": "[encoded data removed]",
            "text/plain": [
              "<Figure size 432x288 with 1 Axes>"
            ]
          },
          "metadata": {
            "tags": [],
            "needs_background": "light"
          }
        }
      ]
    },
    {
      "cell_type": "markdown",
      "metadata": {
        "id": "yKbyIhLDEuAm"
      },
      "source": [
        "As you could observe from the plot, we discovered a positive relationship between the gender confidence score before blurring and the gender confidence score after blurring.\n",
        "We have a regression slope of +0.507. A positive coefficient indicates that a picture's gender confidence score in AWS will increase after we apply the blurring filter. \n",
        "Considering the range of confidence score before blurring is 100 and after blurring is also 100, +0.507 is a fairly small impact. However, this was still a surprising founding, because we expected the blurring filter to hinder the machine's ability to detect one's gender and to lower the gender confidence score. However, through our analysis, we found that blurring the images actually slightly improved the machine's confidence score about gender detection. Our guess is that AWS Rekognition over simplifies some facial features when it is calculating the gender. When we blurred the images, some facial details were lost, which made it easier for the machine to simplify the facial features and thus improved its confidence score. "
      ]
    },
    {
      "cell_type": "markdown",
      "metadata": {
        "id": "0QQcNO4VFgN4"
      },
      "source": [
        "#### New Range"
      ]
    },
    {
      "cell_type": "markdown",
      "metadata": {
        "id": "S5_3_SqVg6by"
      },
      "source": [
        "We test the same correlation with the new range - gender confidence score(before blurring) >95"
      ]
    },
    {
      "cell_type": "code",
      "metadata": {
        "id": "oJeGUNdQVTa7"
      },
      "source": [
        "results_over_95_g = smf.ols('b_genderConf ~ genderConfidence', data=df_over_95_g).fit()"
      ],
      "execution_count": null,
      "outputs": []
    },
    {
      "cell_type": "code",
      "metadata": {
        "id": "5RhY-7qUQhVc",
        "colab": {
          "base_uri": "https://localhost:8080/"
        },
        "outputId": "24b5550c-e569-48d9-86ff-54bec2b0fca9"
      },
      "source": [
        "results_over_95_g.params"
      ],
      "execution_count": null,
      "outputs": [
        {
          "output_type": "execute_result",
          "data": {
            "text/plain": [
              "Intercept          -64.314881\n",
              "genderConfidence     1.642141\n",
              "dtype: float64"
            ]
          },
          "metadata": {
            "tags": []
          },
          "execution_count": 43
        }
      ]
    },
    {
      "cell_type": "code",
      "metadata": {
        "id": "4Erc48RnVDlJ",
        "colab": {
          "base_uri": "https://localhost:8080/",
          "height": 300
        },
        "outputId": "c80b0f0f-68cf-4987-cab6-1f4039cf5126"
      },
      "source": [
        "plt.plot(df_over_95_g['genderConfidence'], df_over_95_g['b_genderConf'], 'o', alpha=0.3, markersize=10)\n",
        "plt.ylabel(\"after blurring\")\n",
        "plt.ylim(95,100)\n",
        "plt.xlabel(\"before blurring\")\n",
        "plt.plot(df_over_95_g['genderConfidence'], results_over_95_g.predict(df_over_95_g['genderConfidence']))"
      ],
      "execution_count": null,
      "outputs": [
        {
          "output_type": "execute_result",
          "data": {
            "text/plain": [
              "[<matplotlib.lines.Line2D at 0x7f240abc6a90>]"
            ]
          },
          "metadata": {
            "tags": []
          },
          "execution_count": 44
        },
        {
          "output_type": "display_data",
          "data": {
            "image/png": "[encoded data removed]",
            "text/plain": [
              "<Figure size 432x288 with 1 Axes>"
            ]
          },
          "metadata": {
            "tags": [],
            "needs_background": "light"
          }
        }
      ]
    },
    {
      "cell_type": "markdown",
      "metadata": {
        "id": "SOhhjEtiYMJ5"
      },
      "source": [
        "When we only look at pictures with original gender confidence score >95, the positive relationship is more obvious. The slope of the new regression is 1.64, which is a lot greater than the slop of 0.425 that we discovered using all pictures. The positive slope reinforces our finding that a picture's gender confidence score in AWS will increase after we apply the blurring filter. Again, this contradicts with our original hypothesis, but supports our theory that simplifying facial features makes it easier for the machine to detect pattern and calculate gender. "
      ]
    },
    {
      "cell_type": "markdown",
      "metadata": {
        "id": "4YoFGMIs8k3g"
      },
      "source": [
        "#Metrics"
      ]
    },
    {
      "cell_type": "markdown",
      "metadata": {
        "id": "iTHA1sjR8kC4"
      },
      "source": [
        "With supervised ML models, an important metric that pops up is accuracy. With labeled data, ML models usually are trained to reduce the misclassification error. As the images are blurred, details are lost in the picture so it is worth looking at whether the ML model reproduces the same labels. So we will look at consistency as an evaluation metric. \n",
        "\n",
        "Inconsistency = k images / n images\n",
        "where k is # of images that have the same label for a given feature before and after blurring and n = # of total images\n",
        "\n",
        "\n"
      ]
    },
    {
      "cell_type": "markdown",
      "metadata": {
        "id": "7ED1e8vwTY1d"
      },
      "source": [
        "## Label inconsistency metrics"
      ]
    },
    {
      "cell_type": "code",
      "metadata": {
        "id": "hA5OGvRxBBvU",
        "colab": {
          "base_uri": "https://localhost:8080/"
        },
        "outputId": "ae2a03d7-59c5-4299-c445-467102dd611f"
      },
      "source": [
        "#total number of images\n",
        "n_images = dataframe.shape[0] \n",
        "n_images"
      ],
      "execution_count": null,
      "outputs": [
        {
          "output_type": "execute_result",
          "data": {
            "text/plain": [
              "175"
            ]
          },
          "metadata": {
            "tags": []
          },
          "execution_count": 45
        }
      ]
    },
    {
      "cell_type": "markdown",
      "metadata": {
        "id": "_soqHuaaJfW2"
      },
      "source": [
        "###Emotion labeling inconsistency"
      ]
    },
    {
      "cell_type": "code",
      "metadata": {
        "id": "-kNiYNRQ-H0z",
        "colab": {
          "base_uri": "https://localhost:8080/",
          "height": 194
        },
        "outputId": "88cfdb86-3aaa-4b48-98d5-19d8230af637"
      },
      "source": [
        "#This is an example where gender the label is not consistent \n",
        "emotional_inconsistency = dataframe[dataframe['emotion'] != dataframe['b_emotion']].head()\n",
        "emotional_inconsistency.head()"
      ],
      "execution_count": null,
      "outputs": [
        {
          "output_type": "execute_result",
          "data": {
            "text/html": [
              "<div>\n",
              "<style scoped>\n",
              "    .dataframe tbody tr th:only-of-type {\n",
              "        vertical-align: middle;\n",
              "    }\n",
              "\n",
              "    .dataframe tbody tr th {\n",
              "        vertical-align: top;\n",
              "    }\n",
              "\n",
              "    .dataframe thead th {\n",
              "        text-align: right;\n",
              "    }\n",
              "</style>\n",
              "<table border=\"1\" class=\"dataframe\">\n",
              "  <thead>\n",
              "    <tr style=\"text-align: right;\">\n",
              "      <th></th>\n",
              "      <th>ageLow</th>\n",
              "      <th>ageHigh</th>\n",
              "      <th>gender</th>\n",
              "      <th>genderConfidence</th>\n",
              "      <th>emotion</th>\n",
              "      <th>emotionConfidence</th>\n",
              "      <th>b_ageLow</th>\n",
              "      <th>b_ageHigh</th>\n",
              "      <th>b_gender</th>\n",
              "      <th>b_genderConf</th>\n",
              "      <th>b_emotion</th>\n",
              "      <th>b_emotionConf</th>\n",
              "      <th>sc_label</th>\n",
              "    </tr>\n",
              "  </thead>\n",
              "  <tbody>\n",
              "    <tr>\n",
              "      <th>22</th>\n",
              "      <td>19</td>\n",
              "      <td>31</td>\n",
              "      <td>Female</td>\n",
              "      <td>98.52</td>\n",
              "      <td>SAD</td>\n",
              "      <td>49.03</td>\n",
              "      <td>16</td>\n",
              "      <td>28</td>\n",
              "      <td>Female</td>\n",
              "      <td>99.16</td>\n",
              "      <td>CALM</td>\n",
              "      <td>85.32</td>\n",
              "      <td>white</td>\n",
              "    </tr>\n",
              "    <tr>\n",
              "      <th>30</th>\n",
              "      <td>22</td>\n",
              "      <td>34</td>\n",
              "      <td>Female</td>\n",
              "      <td>97.69</td>\n",
              "      <td>FEAR</td>\n",
              "      <td>49.07</td>\n",
              "      <td>14</td>\n",
              "      <td>26</td>\n",
              "      <td>Female</td>\n",
              "      <td>98.74</td>\n",
              "      <td>DISGUSTED</td>\n",
              "      <td>53.37</td>\n",
              "      <td>white</td>\n",
              "    </tr>\n",
              "    <tr>\n",
              "      <th>31</th>\n",
              "      <td>21</td>\n",
              "      <td>33</td>\n",
              "      <td>Male</td>\n",
              "      <td>98.33</td>\n",
              "      <td>SAD</td>\n",
              "      <td>48.75</td>\n",
              "      <td>23</td>\n",
              "      <td>37</td>\n",
              "      <td>Male</td>\n",
              "      <td>98.04</td>\n",
              "      <td>CALM</td>\n",
              "      <td>83.34</td>\n",
              "      <td>white</td>\n",
              "    </tr>\n",
              "    <tr>\n",
              "      <th>36</th>\n",
              "      <td>23</td>\n",
              "      <td>37</td>\n",
              "      <td>Female</td>\n",
              "      <td>99.94</td>\n",
              "      <td>HAPPY</td>\n",
              "      <td>48.30</td>\n",
              "      <td>23</td>\n",
              "      <td>35</td>\n",
              "      <td>Female</td>\n",
              "      <td>99.91</td>\n",
              "      <td>FEAR</td>\n",
              "      <td>49.69</td>\n",
              "      <td>non_white</td>\n",
              "    </tr>\n",
              "    <tr>\n",
              "      <th>40</th>\n",
              "      <td>22</td>\n",
              "      <td>34</td>\n",
              "      <td>Female</td>\n",
              "      <td>94.09</td>\n",
              "      <td>SAD</td>\n",
              "      <td>49.92</td>\n",
              "      <td>20</td>\n",
              "      <td>32</td>\n",
              "      <td>Female</td>\n",
              "      <td>99.38</td>\n",
              "      <td>CALM</td>\n",
              "      <td>95.96</td>\n",
              "      <td>white</td>\n",
              "    </tr>\n",
              "  </tbody>\n",
              "</table>\n",
              "</div>"
            ],
            "text/plain": [
              "    ageLow  ageHigh  gender  ...  b_emotion b_emotionConf   sc_label\n",
              "22      19       31  Female  ...       CALM         85.32      white\n",
              "30      22       34  Female  ...  DISGUSTED         53.37      white\n",
              "31      21       33    Male  ...       CALM         83.34      white\n",
              "36      23       37  Female  ...       FEAR         49.69  non_white\n",
              "40      22       34  Female  ...       CALM         95.96      white\n",
              "\n",
              "[5 rows x 13 columns]"
            ]
          },
          "metadata": {
            "tags": []
          },
          "execution_count": 46
        }
      ]
    },
    {
      "cell_type": "code",
      "metadata": {
        "id": "L2ZvJjNcIaxr",
        "colab": {
          "base_uri": "https://localhost:8080/"
        },
        "outputId": "b3fb77c4-5b3c-4f21-d941-b99e17699aa3"
      },
      "source": [
        "#Emotion labeling inconsistency\n",
        "vars = vars_emotion\n",
        "\n",
        "k_emotion_changes = emotional_inconsistency.shape[0]\n",
        "inconsistency = round((k_emotion_changes / n_images), 3)\n",
        "print('There were ' + str(k_emotion_changes) + ' change(s) in emotion labeling.')\n",
        "print('The inconsistency rate between emotion predictions is ' + str(inconsistency) + '.')"
      ],
      "execution_count": null,
      "outputs": [
        {
          "output_type": "stream",
          "text": [
            "There were 5 change(s) in emotion labeling.\n",
            "The inconsistency rate between emotion predictions is 0.029.\n"
          ],
          "name": "stdout"
        }
      ]
    },
    {
      "cell_type": "markdown",
      "metadata": {
        "id": "XoeLE88eKQSV"
      },
      "source": [
        "After blurring, we observed that AWS changes its emotion labeling on five people with the inconsistency rate of 2.9%. Among the five changes, three of them are from SAD to CALM, and one is from FEAR to DISGUESTED. These emotions all have similar facial expressions. Even a real human being may not be able to easily distinguish between them. Therefore, we could say that blurring only slightly hinders the machine's ability to detect emotions. "
      ]
    },
    {
      "cell_type": "markdown",
      "metadata": {
        "id": "D3V1MMxSJpGm"
      },
      "source": [
        "###Gender labeling inconsistency"
      ]
    },
    {
      "cell_type": "code",
      "metadata": {
        "id": "apH5ga-LAk_m",
        "colab": {
          "base_uri": "https://localhost:8080/"
        },
        "outputId": "6528f5f4-04a3-4dae-f23f-0ffe4920d32d"
      },
      "source": [
        "#Gender labeling inconsistency\n",
        "vars = vars_gender\n",
        "\n",
        "gender_inconsistency = dataframe[dataframe[vars[0]] != dataframe[vars[1]]]\n",
        "k_gender_changes = gender_inconsistency.shape[0]\n",
        "inconsistency = round((k_gender_changes / n_images), 3)\n",
        "print('There were ' + str(k_gender_changes) + ' change(s) in gender labeling.')\n",
        "print('The inconsistency rate between gender predictions is ' + str(inconsistency) + '.')"
      ],
      "execution_count": null,
      "outputs": [
        {
          "output_type": "stream",
          "text": [
            "There were 10 change(s) in gender labeling.\n",
            "The inconsistency rate between gender predictions is 0.057.\n"
          ],
          "name": "stdout"
        }
      ]
    },
    {
      "cell_type": "markdown",
      "metadata": {
        "id": "Q_nQW03cJQyI"
      },
      "source": [
        "As we have discussed, after blurring, AWS identifies more females than before. This makes sense as males have sharper facial features, and blurring the image would soften edges on male faces. Therefore, the machine would miscalculate some males as females after blurring. The inconsistency rate is only 5.7%, which is not a huge impact. "
      ]
    },
    {
      "cell_type": "markdown",
      "metadata": {
        "id": "cg_Th8tDJtpR"
      },
      "source": [
        "###Potential age label inconsistency"
      ]
    },
    {
      "cell_type": "markdown",
      "metadata": {
        "id": "i8vnLVKYKazH"
      },
      "source": [
        "We don't have exact age labels from AWS, but we can create age labels based of typical age subgroups. This labeling is based of an example of how survey tend to ask for age. Let's see how consistently AWS Rekognition manages to keep predictions within the same categories for lowAge and highAge predictions.\n",
        "\n",
        "Typical survey age classes:\n",
        "\n",
        "* 0 = Under 12 years old\n",
        "* 1 = 12-17 years old\n",
        "* 2 = 18-24 years old\n",
        "* 3 = 25-34 years old\n",
        "* 4 = 35-44 years old\n",
        "* 5 = 45-54 years old\n",
        "* 6 = 55-64 years old\n",
        "* 7 = 65-74 years old\n",
        "* 8 = 75 years or older"
      ]
    },
    {
      "cell_type": "code",
      "metadata": {
        "id": "7ztK3UtzMqXv"
      },
      "source": [
        "#Let's make a function that returns class based on age\n",
        "def get_survey_class(x):\n",
        "  class_x = 0\n",
        "  if 12 <= x <= 17:\n",
        "    class_x = 1\n",
        "  if 18 <= x <= 24:\n",
        "    class_x = 2\n",
        "  if 25 <= x <= 34:\n",
        "    class_x = 3\n",
        "  if 35 <= x <= 44:\n",
        "    class_x = 4\n",
        "  if 45 <= x <= 54:\n",
        "    class_x = 5\n",
        "  if 55 <= x <= 64:\n",
        "    class_x = 6\n",
        "  if 65 <= x <= 74:\n",
        "    class_x = 7\n",
        "  if x >= 75:\n",
        "    class_x = 8\n",
        "  return class_x"
      ],
      "execution_count": null,
      "outputs": []
    },
    {
      "cell_type": "code",
      "metadata": {
        "id": "cXEgxtW7PjJq"
      },
      "source": [
        "#let's count labels that don't match for multiclass survey age labels\n",
        "def count_mismatch(array1,array2):\n",
        "  count = 0\n",
        "  for k in range(len(array1)):\n",
        "    if array1[k] != array2[k]:\n",
        "      count += 1\n",
        "  return count"
      ],
      "execution_count": null,
      "outputs": []
    },
    {
      "cell_type": "code",
      "metadata": {
        "id": "FBwX9kD0L3_a"
      },
      "source": [
        "lowAge_class = []\n",
        "lowAge_class_postblur = []\n",
        "\n",
        "highAge_class = []\n",
        "highAge_class_postblur = []\n",
        "\n",
        "for x in range(n_images):\n",
        "  class1 = get_survey_class(dataframe.iloc[x]['ageLow'])\n",
        "  lowAge_class.append(class1)\n",
        "\n",
        "  class2 = get_survey_class(dataframe.iloc[x]['b_ageLow'])\n",
        "  lowAge_class_postblur.append(class2)\n",
        "\n",
        "  class3 = get_survey_class(dataframe.iloc[x]['ageHigh'])\n",
        "  highAge_class.append(class3)\n",
        "\n",
        "  class4 = get_survey_class(dataframe.iloc[x]['b_ageHigh'])\n",
        "  highAge_class_postblur.append(class4)"
      ],
      "execution_count": null,
      "outputs": []
    },
    {
      "cell_type": "code",
      "metadata": {
        "id": "T3KbupYTQOb-"
      },
      "source": [
        "lowAge_survey_mismatch = count_mismatch(lowAge_class, lowAge_class_postblur)\n",
        "highAge_survey_mismatch = count_mismatch(highAge_class, highAge_class_postblur)"
      ],
      "execution_count": null,
      "outputs": []
    },
    {
      "cell_type": "code",
      "metadata": {
        "id": "GIML1Rk9OUG2",
        "colab": {
          "base_uri": "https://localhost:8080/"
        },
        "outputId": "b01af789-b2e4-46b3-fa14-cc91cc6c70f7"
      },
      "source": [
        "#Survey age range consistency\n",
        "inconsistency1 = round((lowAge_survey_mismatch / n_images), 3)\n",
        "\n",
        "inconsistency2 = round((highAge_survey_mismatch / n_images), 3)\n",
        "\n",
        "print('The inconsistency rate between lowAge labels using typical survey ranges is ' + str(inconsistency1))\n",
        "print('The inconsistency rate between highAge labels using typical survey ranges is ' + str(inconsistency2))\n",
        "print('This is based off of hypothetical age range labels. Typically, we would see these kind of ranges or stages of life: child, young adult, adult, elderly, etc.')"
      ],
      "execution_count": null,
      "outputs": [
        {
          "output_type": "stream",
          "text": [
            "The inconsistency rate between lowAge labels using typical survey ranges is 0.24\n",
            "The inconsistency rate between highAge labels using typical survey ranges is 0.263\n",
            "This is based off of hypothetical age range labels. Typically, we would see these kind of ranges or stages of life: child, young adult, adult, elderly, etc.\n"
          ],
          "name": "stdout"
        }
      ]
    },
    {
      "cell_type": "markdown",
      "metadata": {
        "id": "K4vW2jzvJ8we"
      },
      "source": [
        "#Second look at our main variables by skin color labeling"
      ]
    },
    {
      "cell_type": "code",
      "metadata": {
        "id": "epqoo9UOKGt9",
        "colab": {
          "base_uri": "https://localhost:8080/"
        },
        "outputId": "cafd0697-4257-458c-c84f-d7a0f4b964be"
      },
      "source": [
        "dataframe['sc_label']"
      ],
      "execution_count": null,
      "outputs": [
        {
          "output_type": "execute_result",
          "data": {
            "text/plain": [
              "0      white\n",
              "1      white\n",
              "2      white\n",
              "3      white\n",
              "4      white\n",
              "       ...  \n",
              "170    white\n",
              "171    white\n",
              "172    white\n",
              "173    white\n",
              "174    white\n",
              "Name: sc_label, Length: 175, dtype: object"
            ]
          },
          "metadata": {
            "tags": []
          },
          "execution_count": 54
        }
      ]
    },
    {
      "cell_type": "code",
      "metadata": {
        "colab": {
          "base_uri": "https://localhost:8080/"
        },
        "id": "O9GXIc89ZrKR",
        "outputId": "f163466b-147e-4686-84a9-e198fdddc5f2"
      },
      "source": [
        "dataframe['sc_label'].value_counts()"
      ],
      "execution_count": null,
      "outputs": [
        {
          "output_type": "execute_result",
          "data": {
            "text/plain": [
              "white        129\n",
              "non_white     46\n",
              "Name: sc_label, dtype: int64"
            ]
          },
          "metadata": {
            "tags": []
          },
          "execution_count": 55
        }
      ]
    },
    {
      "cell_type": "code",
      "metadata": {
        "colab": {
          "base_uri": "https://localhost:8080/",
          "height": 299
        },
        "id": "wRTgrDt6eauE",
        "outputId": "dab143c0-19dd-4b8d-800a-51d89c1693f8"
      },
      "source": [
        "import seaborn as sns\n",
        "sns.countplot('sc_label', data=dataframe)"
      ],
      "execution_count": null,
      "outputs": [
        {
          "output_type": "execute_result",
          "data": {
            "text/plain": [
              "<matplotlib.axes._subplots.AxesSubplot at 0x7f240ac993c8>"
            ]
          },
          "metadata": {
            "tags": []
          },
          "execution_count": 56
        },
        {
          "output_type": "display_data",
          "data": {
            "image/png": "[encoded data removed]",
            "text/plain": [
              "<Figure size 432x288 with 1 Axes>"
            ]
          },
          "metadata": {
            "tags": [],
            "needs_background": "light"
          }
        }
      ]
    },
    {
      "cell_type": "markdown",
      "metadata": {
        "id": "ZfTszhKBfZbg"
      },
      "source": [
        "# Age"
      ]
    },
    {
      "cell_type": "markdown",
      "metadata": {
        "id": "Nq6C-nfAgsZ6"
      },
      "source": [
        "## Distribution Comparison"
      ]
    },
    {
      "cell_type": "code",
      "metadata": {
        "id": "mOXpppO6jhUI"
      },
      "source": [
        "#seperating dataframe for each skin label\n",
        "white_df = dataframe[dataframe['sc_label']=='white']\n",
        "non_white_df = dataframe[dataframe['sc_label']=='non_white']\n",
        "#getting summary stats for by label\n",
        "white_df_summary = white_df.describe()\n",
        "non_white_summary = non_white_df.describe()"
      ],
      "execution_count": null,
      "outputs": []
    },
    {
      "cell_type": "markdown",
      "metadata": {
        "id": "3jyNvos4fy77"
      },
      "source": [
        "###Age low var"
      ]
    },
    {
      "cell_type": "code",
      "metadata": {
        "colab": {
          "base_uri": "https://localhost:8080/",
          "height": 381
        },
        "id": "XAZm3wB9aZRR",
        "outputId": "8f0dcb90-5728-4094-cf00-e8604dbe4cd8"
      },
      "source": [
        "#results\n",
        "y_var = 'ageLow'\n",
        "stat = 'mean'\n",
        "stat_result_white = get_stat(white_df_summary, y_var, stat)\n",
        "stat_result_nonwhite = get_stat(non_white_summary, y_var, stat)\n",
        "\n",
        "print('The ' + stat + ' for ageLow predicted for our white group BEFORE blurring is: ' + str(stat_result_white))\n",
        "print('The ' + stat + ' for ageLow predicted for our non_white group BEFORE blurring is: ' + str(stat_result_nonwhite))\n",
        "\n",
        "print('')\n",
        "\n",
        "stat = 'std'\n",
        "stat_result_white = get_stat(white_df_summary, y_var, stat)\n",
        "stat_result_nonwhite = get_stat(non_white_summary, y_var, stat)\n",
        "print('The ' + stat + ' for ageLow predicted for our white group BEFORE blurring is: ' + str(stat_result_white))\n",
        "print('The ' + stat + ' for ageLow predicted for our non_white group BEFORE blurring is: ' + str(stat_result_nonwhite))\n",
        "\n",
        "#graph\n",
        "sns.violinplot(x = 'sc_label', y = y_var, data = dataframe, inner= None)\n",
        "\n",
        "plt.xlabel('Skin color label')\n",
        "plt.ylabel(y_var)\n",
        "plt.title('Low age predictions by skin color before blurring')\n",
        "plt.show()"
      ],
      "execution_count": null,
      "outputs": [
        {
          "output_type": "stream",
          "text": [
            "The mean for ageLow predicted for our white group BEFORE blurring is: 23.14\n",
            "The mean for ageLow predicted for our non_white group BEFORE blurring is: 22.522\n",
            "\n",
            "The std for ageLow predicted for our white group BEFORE blurring is: 11.67\n",
            "The std for ageLow predicted for our non_white group BEFORE blurring is: 9.475\n"
          ],
          "name": "stdout"
        },
        {
          "output_type": "display_data",
          "data": {
            "image/png": "[encoded data removed]",
            "text/plain": [
              "<Figure size 432x288 with 1 Axes>"
            ]
          },
          "metadata": {
            "tags": [],
            "needs_background": "light"
          }
        }
      ]
    },
    {
      "cell_type": "code",
      "metadata": {
        "colab": {
          "base_uri": "https://localhost:8080/",
          "height": 381
        },
        "id": "RXrzH2c2DOdi",
        "outputId": "69d5d351-c802-4430-a53c-06464207ed1e"
      },
      "source": [
        "#results\n",
        "y_var = 'b_ageLow'\n",
        "stat = 'mean'\n",
        "stat_result_white = get_stat(white_df_summary, y_var, stat)\n",
        "stat_result_nonwhite = get_stat(non_white_summary, y_var, stat)\n",
        "\n",
        "print('The ' + stat + ' for ageLow predicted for our white group AFTER blurring is: ' + str(stat_result_white))\n",
        "print('The ' + stat + ' for ageLow predicted for our non_white group AFTER blurring is: ' + str(stat_result_nonwhite))\n",
        "\n",
        "print('')\n",
        "\n",
        "stat = 'std'\n",
        "stat_result_white = get_stat(white_df_summary, y_var, stat)\n",
        "stat_result_nonwhite = get_stat(non_white_summary, y_var, stat)\n",
        "print('The ' + stat + ' for ageLow predicted for our white group AFTER blurring is: ' + str(stat_result_white))\n",
        "print('The ' + stat + ' for ageLow predicted for our non_white group AFTER blurring is: ' + str(stat_result_nonwhite))\n",
        "\n",
        "#graph\n",
        "sns.violinplot(x = 'sc_label', y = y_var, data = dataframe, inner= None)\n",
        "\n",
        "plt.xlabel('Skin color label')\n",
        "plt.ylabel(y_var)\n",
        "plt.title('Low age predictions by skin color after blurring')\n",
        "plt.show()"
      ],
      "execution_count": null,
      "outputs": [
        {
          "output_type": "stream",
          "text": [
            "The mean for ageLow predicted for our white group AFTER blurring is: 22.496\n",
            "The mean for ageLow predicted for our non_white group AFTER blurring is: 20.891\n",
            "\n",
            "The std for ageLow predicted for our white group AFTER blurring is: 12.128\n",
            "The std for ageLow predicted for our non_white group AFTER blurring is: 8.428\n"
          ],
          "name": "stdout"
        },
        {
          "output_type": "display_data",
          "data": {
            "image/png": "[encoded data removed]",
            "text/plain": [
              "<Figure size 432x288 with 1 Axes>"
            ]
          },
          "metadata": {
            "tags": [],
            "needs_background": "light"
          }
        }
      ]
    },
    {
      "cell_type": "markdown",
      "metadata": {
        "id": "mqHvaJQTf1-i"
      },
      "source": [
        "### ageHigh var"
      ]
    },
    {
      "cell_type": "code",
      "metadata": {
        "colab": {
          "base_uri": "https://localhost:8080/",
          "height": 381
        },
        "id": "-pVT4GNpf7KG",
        "outputId": "25f0a11a-5f20-45d7-b52a-f106dd899b82"
      },
      "source": [
        "#results\n",
        "y_var = 'ageHigh'\n",
        "stat = 'mean'\n",
        "stat_result_white = get_stat(white_df_summary, y_var, stat)\n",
        "stat_result_nonwhite = get_stat(non_white_summary, y_var, stat)\n",
        "\n",
        "print('The ' + stat + ' for ageHigh predicted for our white group BEFORE blurring is: ' + str(stat_result_white))\n",
        "print('The ' + stat + ' for ageHigh predicted for our non_white group BEFORE blurring is: ' + str(stat_result_nonwhite))\n",
        "\n",
        "print('')\n",
        "\n",
        "stat = 'std'\n",
        "stat_result_white = get_stat(white_df_summary, y_var, stat)\n",
        "stat_result_nonwhite = get_stat(non_white_summary, y_var, stat)\n",
        "print('The ' + stat + ' for ageHigh predicted for our white group BEFORE blurring is: ' + str(stat_result_white))\n",
        "print('The ' + stat + ' for ageHigh predicted for our non_white group BEFORE blurring is: ' + str(stat_result_nonwhite))\n",
        "\n",
        "#graph\n",
        "sns.violinplot(x = 'sc_label', y = y_var, data = dataframe, inner= None)\n",
        "\n",
        "plt.xlabel('Skin color label')\n",
        "plt.ylabel(y_var)\n",
        "plt.title('High age predictions by skin color before blurring')\n",
        "plt.show()"
      ],
      "execution_count": null,
      "outputs": [
        {
          "output_type": "stream",
          "text": [
            "The mean for ageHigh predicted for our white group BEFORE blurring is: 36.016\n",
            "The mean for ageHigh predicted for our non_white group BEFORE blurring is: 35.261\n",
            "\n",
            "The std for ageHigh predicted for our white group BEFORE blurring is: 14.15\n",
            "The std for ageHigh predicted for our non_white group BEFORE blurring is: 12.032\n"
          ],
          "name": "stdout"
        },
        {
          "output_type": "display_data",
          "data": {
            "image/png": "[encoded data removed]",
            "text/plain": [
              "<Figure size 432x288 with 1 Axes>"
            ]
          },
          "metadata": {
            "tags": [],
            "needs_background": "light"
          }
        }
      ]
    },
    {
      "cell_type": "code",
      "metadata": {
        "colab": {
          "base_uri": "https://localhost:8080/",
          "height": 381
        },
        "id": "5jvwXOpaf7KH",
        "outputId": "b1ad431c-6ff2-4303-9f2c-9e3d062bd781"
      },
      "source": [
        "#results\n",
        "y_var = 'ageHigh'\n",
        "stat = 'mean'\n",
        "stat_result_white = get_stat(white_df_summary, y_var, stat)\n",
        "stat_result_nonwhite = get_stat(non_white_summary, y_var, stat)\n",
        "\n",
        "print('The ' + stat + ' for ageHigh predicted for our white group AFTER blurring is: ' + str(stat_result_white))\n",
        "print('The ' + stat + ' for ageHigh predicted for our non_white group AFTER blurring is: ' + str(stat_result_nonwhite))\n",
        "\n",
        "print('')\n",
        "\n",
        "stat = 'std'\n",
        "stat_result_white = get_stat(white_df_summary, y_var, stat)\n",
        "stat_result_nonwhite = get_stat(non_white_summary, y_var, stat)\n",
        "print('The ' + stat + ' for ageHigh predicted for our white group AFTER blurring is: ' + str(stat_result_white))\n",
        "print('The ' + stat + ' for ageHigh predicted for our non_white group AFTER blurring is: ' + str(stat_result_nonwhite))\n",
        "\n",
        "#graph\n",
        "sns.violinplot(x = 'sc_label', y = y_var, data = dataframe, inner= None)\n",
        "\n",
        "plt.xlabel('Skin color label')\n",
        "plt.ylabel(y_var)\n",
        "plt.title('High age predictions by skin color after blurring')\n",
        "plt.show()"
      ],
      "execution_count": null,
      "outputs": [
        {
          "output_type": "stream",
          "text": [
            "The mean for ageHigh predicted for our white group AFTER blurring is: 36.016\n",
            "The mean for ageHigh predicted for our non_white group AFTER blurring is: 35.261\n",
            "\n",
            "The std for ageHigh predicted for our white group AFTER blurring is: 14.15\n",
            "The std for ageHigh predicted for our non_white group AFTER blurring is: 12.032\n"
          ],
          "name": "stdout"
        },
        {
          "output_type": "display_data",
          "data": {
            "image/png": "[encoded data removed]",
            "text/plain": [
              "<Figure size 432x288 with 1 Axes>"
            ]
          },
          "metadata": {
            "tags": [],
            "needs_background": "light"
          }
        }
      ]
    },
    {
      "cell_type": "markdown",
      "metadata": {
        "id": "kJCSpHuwvAIB"
      },
      "source": [
        "As we could observe from the result, no matter we have a blurred image or not, the mean age high and age low for the non-white group is lower than those of the white group. This is interesting as the machine recognizes white people to be older than the non-white people. We wonder if it is because the light skin tone of white people makes it easier for the machine to pick up wrinkles and spots on their faces, which are signs of older ages. \n",
        "\n",
        "The variance in the age prediction is also higher in the white group. This could be because we have more white people in the sample - it makes sense to have higher variance in their ages. \n"
      ]
    },
    {
      "cell_type": "markdown",
      "metadata": {
        "id": "_ALPqGRzhqpw"
      },
      "source": [
        "# Gender"
      ]
    },
    {
      "cell_type": "markdown",
      "metadata": {
        "id": "HlmxsTMAGgTp"
      },
      "source": [
        "## Regression Comparison"
      ]
    },
    {
      "cell_type": "markdown",
      "metadata": {
        "id": "jOVeYdM3qFg_"
      },
      "source": [
        "###Non-White"
      ]
    },
    {
      "cell_type": "code",
      "metadata": {
        "colab": {
          "base_uri": "https://localhost:8080/"
        },
        "id": "ZJpQEeiPijFk",
        "outputId": "26114207-e238-45c5-982a-a65dfb881d54"
      },
      "source": [
        "grouped_df = dataframe.groupby(['sc_label'])\n",
        "grouped_df.groups"
      ],
      "execution_count": null,
      "outputs": [
        {
          "output_type": "execute_result",
          "data": {
            "text/plain": [
              "{'non_white': [5, 8, 11, 20, 26, 29, 32, 33, 35, 36, 38, 47, 49, 53, 55, 56, 57, 61, 62, 67, 73, 75, 76, 78, 87, 90, 99, 101, 108, 109, 115, 123, 124, 128, 129, 131, 138, 139, 154, 155, 156, 159, 162, 164, 166, 168], 'white': [0, 1, 2, 3, 4, 6, 7, 9, 10, 12, 13, 14, 15, 16, 17, 18, 19, 21, 22, 23, 24, 25, 27, 28, 30, 31, 34, 37, 39, 40, 41, 42, 43, 44, 45, 46, 48, 50, 51, 52, 54, 58, 59, 60, 63, 64, 65, 66, 68, 69, 70, 71, 72, 74, 77, 79, 80, 81, 82, 83, 84, 85, 86, 88, 89, 91, 92, 93, 94, 95, 96, 97, 98, 100, 102, 103, 104, 105, 106, 107, 110, 111, 112, 113, 114, 116, 117, 118, 119, 120, 121, 122, 125, 126, 127, 130, 132, 133, 134, 135, ...]}"
            ]
          },
          "metadata": {
            "tags": []
          },
          "execution_count": 62
        }
      ]
    },
    {
      "cell_type": "code",
      "metadata": {
        "id": "KjvdvU7opRcw"
      },
      "source": [
        "nw_b_g = grouped_df.get_group('non_white')[\"genderConfidence\"]\n",
        "nw_a_g = grouped_df.get_group('non_white')[\"b_genderConf\"]"
      ],
      "execution_count": null,
      "outputs": []
    },
    {
      "cell_type": "code",
      "metadata": {
        "id": "_p1uM-l2sSav"
      },
      "source": [
        "#wgetting the data\n",
        "import os\n",
        "\n",
        "#Pandas setup\n",
        "import pandas as pd\n",
        "\n",
        "#importing MatPlotLib\n",
        "import matplotlib.pyplot as plt\n",
        "\n",
        "#importing numpy\n",
        "import numpy as np\n",
        "\n",
        "#importing lin regression model\n",
        "from scipy.stats import linregress"
      ],
      "execution_count": null,
      "outputs": []
    },
    {
      "cell_type": "code",
      "metadata": {
        "colab": {
          "base_uri": "https://localhost:8080/"
        },
        "id": "npJ1fXq6sO6f",
        "outputId": "91981044-014f-428d-c697-2e86a546f723"
      },
      "source": [
        "regression_nwg = linregress(nw_b_g, nw_a_g)\n",
        "regression_nwg"
      ],
      "execution_count": null,
      "outputs": [
        {
          "output_type": "execute_result",
          "data": {
            "text/plain": [
              "LinregressResult(slope=0.5521273294401473, intercept=43.58357603017377, rvalue=0.6661119621131476, pvalue=4.362734577430304e-07, stderr=0.09320048980034114)"
            ]
          },
          "metadata": {
            "tags": []
          },
          "execution_count": 65
        }
      ]
    },
    {
      "cell_type": "code",
      "metadata": {
        "id": "FWlzWb97shF2"
      },
      "source": [
        "fx = np.array([nw_b_g.min(), nw_b_g.max() + 1])\n",
        "fy = regression_nwg.intercept + regression_nwg.slope * fx"
      ],
      "execution_count": null,
      "outputs": []
    },
    {
      "cell_type": "code",
      "metadata": {
        "colab": {
          "base_uri": "https://localhost:8080/",
          "height": 313
        },
        "id": "MrB1jMw4hsLr",
        "outputId": "52aa14bb-0df8-4cee-c58b-eb3e9e1dd94c"
      },
      "source": [
        "plt.plot(nw_b_g, nw_a_g, 'o', alpha=0.3, markersize=10 )\n",
        "plt.ylabel(\"after blurring\")\n",
        "plt.xlabel(\"before blurring\")\n",
        "plt.title(\"Non-White Group Gender Confidence Score Regression Analysis\")\n",
        "plt.plot(fx, fy, '-')"
      ],
      "execution_count": null,
      "outputs": [
        {
          "output_type": "execute_result",
          "data": {
            "text/plain": [
              "[<matplotlib.lines.Line2D at 0x7f240aa04208>]"
            ]
          },
          "metadata": {
            "tags": []
          },
          "execution_count": 67
        },
        {
          "output_type": "display_data",
          "data": {
            "image/png": "[encoded data removed]",
            "text/plain": [
              "<Figure size 432x288 with 1 Axes>"
            ]
          },
          "metadata": {
            "tags": [],
            "needs_background": "light"
          }
        }
      ]
    },
    {
      "cell_type": "markdown",
      "metadata": {
        "id": "tmu7IbN0tPGk"
      },
      "source": [
        "### White Group"
      ]
    },
    {
      "cell_type": "code",
      "metadata": {
        "id": "SAgjjtGutZbw"
      },
      "source": [
        "w_b_g = grouped_df.get_group('white')[\"genderConfidence\"]\n",
        "w_a_g = grouped_df.get_group('white')[\"b_genderConf\"]"
      ],
      "execution_count": null,
      "outputs": []
    },
    {
      "cell_type": "code",
      "metadata": {
        "colab": {
          "base_uri": "https://localhost:8080/"
        },
        "id": "_3lrm6t_tZbx",
        "outputId": "975e1b1f-57d4-4e2e-9b32-aa2993b3fc22"
      },
      "source": [
        "regression_wg = linregress(w_b_g, w_a_g)\n",
        "regression_wg"
      ],
      "execution_count": null,
      "outputs": [
        {
          "output_type": "execute_result",
          "data": {
            "text/plain": [
              "LinregressResult(slope=0.4925545716904273, intercept=48.1897776503087, rvalue=0.5719087399634354, pvalue=1.4483615284228297e-12, stderr=0.06269134758807363)"
            ]
          },
          "metadata": {
            "tags": []
          },
          "execution_count": 69
        }
      ]
    },
    {
      "cell_type": "code",
      "metadata": {
        "id": "kStOtM5otZbx"
      },
      "source": [
        "fx = np.array([w_b_g.min(), w_b_g.max() + 1])\n",
        "fy = regression_wg.intercept + regression_wg.slope * fx"
      ],
      "execution_count": null,
      "outputs": []
    },
    {
      "cell_type": "code",
      "metadata": {
        "colab": {
          "base_uri": "https://localhost:8080/",
          "height": 313
        },
        "id": "oSa1MJOEtZbx",
        "outputId": "b68ee7b5-753e-45fc-8794-c87d2a19bb9d"
      },
      "source": [
        "plt.plot(w_b_g, w_a_g, 'o', alpha=0.3, markersize=10 )\n",
        "plt.ylabel(\"after blurring\")\n",
        "plt.xlabel(\"before blurring\")\n",
        "plt.title(\"White Group Gender Confidence Score Regression Analysis\")\n",
        "plt.plot(fx, fy, '-')"
      ],
      "execution_count": null,
      "outputs": [
        {
          "output_type": "execute_result",
          "data": {
            "text/plain": [
              "[<matplotlib.lines.Line2D at 0x7f240a967160>]"
            ]
          },
          "metadata": {
            "tags": []
          },
          "execution_count": 71
        },
        {
          "output_type": "display_data",
          "data": {
            "image/png": "[encoded data removed]",
            "text/plain": [
              "<Figure size 432x288 with 1 Axes>"
            ]
          },
          "metadata": {
            "tags": [],
            "needs_background": "light"
          }
        }
      ]
    },
    {
      "cell_type": "markdown",
      "metadata": {
        "id": "CZO8S3RZsOZ2"
      },
      "source": [
        "For the non-white group, we have a regression slope of 0.552. \n",
        "For the white group, we have a regression slope of 0.493. \n",
        "\n",
        "This tells us that blurring the image improves the machine's ability to identify genders of both white and non-white groups. The difference in the regression slope between the two groups is only about 0.05. This informs us that the machine's ability to identify genders after we blur the images is the same across white and non-white groups."
      ]
    },
    {
      "cell_type": "markdown",
      "metadata": {
        "id": "EnSL7NnalwR1"
      },
      "source": [
        "## Distribution Comparision"
      ]
    },
    {
      "cell_type": "code",
      "metadata": {
        "id": "JkFCEDHWlt6A"
      },
      "source": [
        "#seperating dataframe for each skin label\n",
        "white_df = dataframe[dataframe['sc_label']=='white']\n",
        "non_white_df = dataframe[dataframe['sc_label']=='non_white']\n",
        "#getting summary stats for by label\n",
        "white_df_summary = white_df.describe()\n",
        "non_white_summary = non_white_df.describe()"
      ],
      "execution_count": null,
      "outputs": []
    },
    {
      "cell_type": "code",
      "metadata": {
        "colab": {
          "base_uri": "https://localhost:8080/",
          "height": 381
        },
        "id": "mxmOhRZGl6rO",
        "outputId": "033a486e-cd39-4c4e-88ef-3e5d90f436ac"
      },
      "source": [
        "#results\n",
        "y_var = 'genderConfidence'\n",
        "stat = 'mean'\n",
        "stat_result_white = get_stat(white_df_summary, y_var, stat)\n",
        "stat_result_nonwhite = get_stat(non_white_summary, y_var, stat)\n",
        "\n",
        "print('The ' + stat + ' for gender confidence score predicted for our white group BEFORE blurring is: ' + str(stat_result_white))\n",
        "print('The ' + stat + ' for gender confidence score predicted for our non_white group BEFORE blurring is: ' + str(stat_result_nonwhite))\n",
        "\n",
        "print('')\n",
        "\n",
        "stat = 'std'\n",
        "stat_result_white = get_stat(white_df_summary, y_var, stat)\n",
        "stat_result_nonwhite = get_stat(non_white_summary, y_var, stat)\n",
        "print('The ' + stat + ' for gender confidence score predicted for our white group BEFORE blurring is: ' + str(stat_result_white))\n",
        "print('The ' + stat + ' for gender confidence score predicted for our non_white group BEFORE blurring is: ' + str(stat_result_nonwhite))\n",
        "\n",
        "#graph\n",
        "sns.violinplot(x = 'sc_label', y = y_var, data = dataframe, inner= None)\n",
        "\n",
        "plt.xlabel('Skin color label')\n",
        "plt.ylabel(y_var)\n",
        "plt.title('gender confidence score predictions by skin color BEFORE blurring')\n",
        "plt.show()"
      ],
      "execution_count": null,
      "outputs": [
        {
          "output_type": "stream",
          "text": [
            "The mean for gender confidence score predicted for our white group BEFORE blurring is: 92.327\n",
            "The mean for gender confidence score predicted for our non_white group BEFORE blurring is: 92.998\n",
            "\n",
            "The std for gender confidence score predicted for our white group BEFORE blurring is: 12.696\n",
            "The std for gender confidence score predicted for our non_white group BEFORE blurring is: 11.945\n"
          ],
          "name": "stdout"
        },
        {
          "output_type": "display_data",
          "data": {
            "image/png": "[encoded data removed]",
            "text/plain": [
              "<Figure size 432x288 with 1 Axes>"
            ]
          },
          "metadata": {
            "tags": [],
            "needs_background": "light"
          }
        }
      ]
    },
    {
      "cell_type": "code",
      "metadata": {
        "colab": {
          "base_uri": "https://localhost:8080/",
          "height": 381
        },
        "id": "ZLrejp-Nl_T9",
        "outputId": "7c29e92c-a182-45aa-9bbd-087b147dcf27"
      },
      "source": [
        "#results\n",
        "y_var = 'b_genderConf'\n",
        "stat = 'mean'\n",
        "stat_result_white = get_stat(white_df_summary, y_var, stat)\n",
        "stat_result_nonwhite = get_stat(non_white_summary, y_var, stat)\n",
        "\n",
        "print('The ' + stat + ' for gender confidence score predicted for our white group AFTER blurring is: ' + str(stat_result_white))\n",
        "print('The ' + stat + ' for gender confidence score predicted for our non_white group AFTER blurring is: ' + str(stat_result_nonwhite))\n",
        "\n",
        "print('')\n",
        "\n",
        "stat = 'std'\n",
        "stat_result_white = get_stat(white_df_summary, y_var, stat)\n",
        "stat_result_nonwhite = get_stat(non_white_summary, y_var, stat)\n",
        "print('The ' + stat + ' for gender confidence score predicted for our white group AFTER blurring is: ' + str(stat_result_white))\n",
        "print('The ' + stat + ' for gender confidence score predicted for our non_white group AFTER blurring is: ' + str(stat_result_nonwhite))\n",
        "\n",
        "#graph\n",
        "sns.violinplot(x = 'sc_label', y = y_var, data = dataframe, inner= None)\n",
        "\n",
        "plt.xlabel('Skin color label')\n",
        "plt.ylabel(y_var)\n",
        "plt.title('Low age predictions by skin color AFTER blurring')\n",
        "plt.show()"
      ],
      "execution_count": null,
      "outputs": [
        {
          "output_type": "stream",
          "text": [
            "The mean for gender confidence score predicted for our white group AFTER blurring is: 93.666\n",
            "The mean for gender confidence score predicted for our non_white group AFTER blurring is: 94.93\n",
            "\n",
            "The std for gender confidence score predicted for our white group AFTER blurring is: 10.935\n",
            "The std for gender confidence score predicted for our non_white group AFTER blurring is: 9.901\n"
          ],
          "name": "stdout"
        },
        {
          "output_type": "display_data",
          "data": {
            "image/png": "[encoded data removed]",
            "text/plain": [
              "<Figure size 432x288 with 1 Axes>"
            ]
          },
          "metadata": {
            "tags": [],
            "needs_background": "light"
          }
        }
      ]
    },
    {
      "cell_type": "markdown",
      "metadata": {
        "id": "udojqwV5ryyj"
      },
      "source": [
        "As we could observe from the result, no matter we have a blurred image or not, the mean gender confidence score for the non-white group is higher than the mean gender confidence score of the white group. Moreover, the standard deviation of scores for the non-white group is lower than that of the white group. However, the difference in mean and standard deviation between white and non-white group are both small. For mean, the difference is about one unit in both normal and blurred cases.  For the std, the difference is also about one unit in both cases. This tells us that even though the machine is slightly more confident and consistent in predicting the gender of the non-white group, it doesn’t really have a bias towards the white group. "
      ]
    },
    {
      "cell_type": "markdown",
      "metadata": {
        "id": "YDKXLS7daNS3"
      },
      "source": [
        "#Emotion"
      ]
    },
    {
      "cell_type": "markdown",
      "metadata": {
        "id": "CZRIffwKaQJq"
      },
      "source": [
        "## Regression Comparison"
      ]
    },
    {
      "cell_type": "markdown",
      "metadata": {
        "id": "vqpPjMrnaS2v"
      },
      "source": [
        "###Non-White"
      ]
    },
    {
      "cell_type": "code",
      "metadata": {
        "id": "mBZnzbqDabIh",
        "colab": {
          "base_uri": "https://localhost:8080/"
        },
        "outputId": "7669fc87-46c2-4386-b7cb-96fbe5efc12e"
      },
      "source": [
        "grouped_df = dataframe.groupby(['sc_label'])\n",
        "grouped_df.groups"
      ],
      "execution_count": null,
      "outputs": [
        {
          "output_type": "execute_result",
          "data": {
            "text/plain": [
              "{'non_white': [5, 8, 11, 20, 26, 29, 32, 33, 35, 36, 38, 47, 49, 53, 55, 56, 57, 61, 62, 67, 73, 75, 76, 78, 87, 90, 99, 101, 108, 109, 115, 123, 124, 128, 129, 131, 138, 139, 154, 155, 156, 159, 162, 164, 166, 168], 'white': [0, 1, 2, 3, 4, 6, 7, 9, 10, 12, 13, 14, 15, 16, 17, 18, 19, 21, 22, 23, 24, 25, 27, 28, 30, 31, 34, 37, 39, 40, 41, 42, 43, 44, 45, 46, 48, 50, 51, 52, 54, 58, 59, 60, 63, 64, 65, 66, 68, 69, 70, 71, 72, 74, 77, 79, 80, 81, 82, 83, 84, 85, 86, 88, 89, 91, 92, 93, 94, 95, 96, 97, 98, 100, 102, 103, 104, 105, 106, 107, 110, 111, 112, 113, 114, 116, 117, 118, 119, 120, 121, 122, 125, 126, 127, 130, 132, 133, 134, 135, ...]}"
            ]
          },
          "metadata": {
            "tags": []
          },
          "execution_count": 370
        }
      ]
    },
    {
      "cell_type": "code",
      "metadata": {
        "id": "mX8sndaVadwY"
      },
      "source": [
        "nw_b_e = grouped_df.get_group('non_white')[\"emotionConfidence\"]\n",
        "nw_a_e = grouped_df.get_group('non_white')[\"b_emotionConf\"]"
      ],
      "execution_count": null,
      "outputs": []
    },
    {
      "cell_type": "code",
      "metadata": {
        "id": "DkDrrsLIal92",
        "colab": {
          "base_uri": "https://localhost:8080/"
        },
        "outputId": "443042f7-8dee-43cb-e055-7243fa50b772"
      },
      "source": [
        "regression_nwe = linregress(nw_b_e, nw_a_e)\n",
        "regression_nwe"
      ],
      "execution_count": null,
      "outputs": [
        {
          "output_type": "execute_result",
          "data": {
            "text/plain": [
              "LinregressResult(slope=0.7526255003950559, intercept=20.12896231864343, rvalue=0.7446431822949315, pvalue=2.9736826930856234e-09, stderr=0.1017024489511183)"
            ]
          },
          "metadata": {
            "tags": []
          },
          "execution_count": 373
        }
      ]
    },
    {
      "cell_type": "code",
      "metadata": {
        "id": "IrxnTr4nasDg"
      },
      "source": [
        "fx = np.array([nw_b_e.min(), nw_b_e.max() + 1])\n",
        "fy = regression_nwe.intercept + regression_nwe.slope * fx"
      ],
      "execution_count": null,
      "outputs": []
    },
    {
      "cell_type": "code",
      "metadata": {
        "id": "bx8g6WLjavoS",
        "colab": {
          "base_uri": "https://localhost:8080/",
          "height": 312
        },
        "outputId": "28af51aa-5726-46b4-b058-d37d8397ee09"
      },
      "source": [
        "plt.plot(nw_b_e, nw_a_e, 'o', alpha=0.3, markersize=10 )\n",
        "plt.ylabel(\"after blurring\")\n",
        "plt.xlabel(\"before blurring\")\n",
        "plt.title(\"Non-White Group Gender Confidence Score Regression Analysis\")\n",
        "plt.plot(fx, fy, '-')"
      ],
      "execution_count": null,
      "outputs": [
        {
          "output_type": "execute_result",
          "data": {
            "text/plain": [
              "[<matplotlib.lines.Line2D at 0x7f3708581cc0>]"
            ]
          },
          "metadata": {
            "tags": []
          },
          "execution_count": 375
        },
        {
          "output_type": "display_data",
          "data": {
            "image/png": "[encoded data removed]",
            "text/plain": [
              "<Figure size 432x288 with 1 Axes>"
            ]
          },
          "metadata": {
            "tags": [],
            "needs_background": "light"
          }
        }
      ]
    },
    {
      "cell_type": "markdown",
      "metadata": {
        "id": "F9BcI0dqa5_z"
      },
      "source": [
        "###White Group"
      ]
    },
    {
      "cell_type": "code",
      "metadata": {
        "id": "aPrGc0bDa8BN"
      },
      "source": [
        "w_b_e = grouped_df.get_group('white')[\"emotionConfidence\"]\n",
        "w_a_e = grouped_df.get_group('white')[\"b_emotionConf\"]"
      ],
      "execution_count": null,
      "outputs": []
    },
    {
      "cell_type": "code",
      "metadata": {
        "id": "W85zGlFxbBal",
        "colab": {
          "base_uri": "https://localhost:8080/"
        },
        "outputId": "3919e5ec-ebc1-4856-80a3-9f3347605cf6"
      },
      "source": [
        "regression_we = linregress(w_b_e, w_a_e)\n",
        "regression_we"
      ],
      "execution_count": null,
      "outputs": [
        {
          "output_type": "execute_result",
          "data": {
            "text/plain": [
              "LinregressResult(slope=0.6105276581575648, intercept=34.245522594766875, rvalue=0.6496828133755648, pvalue=8.132369522571195e-17, stderr=0.0633917953305233)"
            ]
          },
          "metadata": {
            "tags": []
          },
          "execution_count": 377
        }
      ]
    },
    {
      "cell_type": "code",
      "metadata": {
        "id": "A2RXnWP_bD0D"
      },
      "source": [
        "fx = np.array([w_b_e.min(), w_b_e.max() + 1])\n",
        "fy = regression_we.intercept + regression_we.slope * fx"
      ],
      "execution_count": null,
      "outputs": []
    },
    {
      "cell_type": "code",
      "metadata": {
        "id": "qPvHZFqTbIxe",
        "colab": {
          "base_uri": "https://localhost:8080/",
          "height": 312
        },
        "outputId": "c591fc79-3bf2-4cfc-edfa-c63ac4f7525a"
      },
      "source": [
        "plt.plot(w_b_e, w_a_e, 'o', alpha=0.3, markersize=10 )\n",
        "plt.ylabel(\"after blurring\")\n",
        "plt.xlabel(\"before blurring\")\n",
        "plt.title(\"White Group Gender Confidence Score Regression Analysis\")\n",
        "plt.plot(fx, fy, '-')"
      ],
      "execution_count": null,
      "outputs": [
        {
          "output_type": "execute_result",
          "data": {
            "text/plain": [
              "[<matplotlib.lines.Line2D at 0x7f37087cd390>]"
            ]
          },
          "metadata": {
            "tags": []
          },
          "execution_count": 379
        },
        {
          "output_type": "display_data",
          "data": {
            "image/png": "[encoded data removed]",
            "text/plain": [
              "<Figure size 432x288 with 1 Axes>"
            ]
          },
          "metadata": {
            "tags": [],
            "needs_background": "light"
          }
        }
      ]
    },
    {
      "cell_type": "markdown",
      "metadata": {
        "id": "w0krN_bP5Jk-"
      },
      "source": [
        "For the non-white group, we have a regression slope of 0.753. For the white group, we have a regression slope of 0.611.\n",
        "\n",
        "This tells us that blurring the image improves the machine's ability to identify emotion of both white and non-white groups. The difference in the regression slope between the two groups is a decent amount at about 0.14. This informs us that the machine's ability to identify emotion after we blur the images is not the same across white and non-white groups and improves more for non-white groups."
      ]
    },
    {
      "cell_type": "markdown",
      "metadata": {
        "id": "yNB835xdbRR9"
      },
      "source": [
        "##Distribution Comparison"
      ]
    },
    {
      "cell_type": "code",
      "metadata": {
        "id": "4EfTWYV5ntH8"
      },
      "source": [
        "#seperating dataframe for each skin label\n",
        "white_df = dataframe[dataframe['sc_label']=='white']\n",
        "non_white_df = dataframe[dataframe['sc_label']=='non_white']\n",
        "#getting summary stats for by label\n",
        "white_df_summary = white_df.describe()\n",
        "non_white_summary = non_white_df.describe()"
      ],
      "execution_count": null,
      "outputs": []
    },
    {
      "cell_type": "code",
      "metadata": {
        "id": "yHs2Ifvpnt_s",
        "colab": {
          "base_uri": "https://localhost:8080/",
          "height": 381
        },
        "outputId": "61359730-15ce-4f74-b7af-32b06ea00cac"
      },
      "source": [
        "#results\n",
        "y_var = 'emotionConfidence'\n",
        "stat = 'mean'\n",
        "stat_result_white = get_stat(white_df_summary, y_var, stat)\n",
        "stat_result_nonwhite = get_stat(non_white_summary, y_var, stat)\n",
        "\n",
        "print('The ' + stat + ' for emotion confidence score predicted for our white group BEFORE blurring is: ' + str(stat_result_white))\n",
        "print('The ' + stat + ' for emotion confidence score predicted for our non_white group BEFORE blurring is: ' + str(stat_result_nonwhite))\n",
        "\n",
        "print('')\n",
        "\n",
        "stat = 'std'\n",
        "stat_result_white = get_stat(white_df_summary, y_var, stat)\n",
        "stat_result_nonwhite = get_stat(non_white_summary, y_var, stat)\n",
        "print('The ' + stat + ' for emotion confidence score predicted for our white group BEFORE blurring is: ' + str(stat_result_white))\n",
        "print('The ' + stat + ' for emotion confidence score predicted for our non_white group BEFORE blurring is: ' + str(stat_result_nonwhite))\n",
        "\n",
        "#graph\n",
        "sns.violinplot(x = 'sc_label', y = y_var, data = dataframe, inner= None)\n",
        "\n",
        "plt.xlabel('Skin color label')\n",
        "plt.ylabel(y_var)\n",
        "plt.title('emotion confidence score predictions by skin color BEFORE blurring')\n",
        "plt.show()"
      ],
      "execution_count": null,
      "outputs": [
        {
          "output_type": "stream",
          "text": [
            "The mean for emotion confidence score predicted for our white group BEFORE blurring is: 81.492\n",
            "The mean for emotion confidence score predicted for our non_white group BEFORE blurring is: 83.775\n",
            "\n",
            "The std for emotion confidence score predicted for our white group BEFORE blurring is: 18.569\n",
            "The std for emotion confidence score predicted for our non_white group BEFORE blurring is: 17.932\n"
          ],
          "name": "stdout"
        },
        {
          "output_type": "display_data",
          "data": {
            "image/png": "[encoded data removed]",
            "text/plain": [
              "<Figure size 432x288 with 1 Axes>"
            ]
          },
          "metadata": {
            "tags": [],
            "needs_background": "light"
          }
        }
      ]
    },
    {
      "cell_type": "code",
      "metadata": {
        "id": "NJrFfJJpn5XQ",
        "colab": {
          "base_uri": "https://localhost:8080/",
          "height": 381
        },
        "outputId": "cbbb9949-54ce-4340-bf25-9dbe7f3d992b"
      },
      "source": [
        "#results\n",
        "y_var = 'b_emotionConf'\n",
        "stat = 'mean'\n",
        "stat_result_white = get_stat(white_df_summary, y_var, stat)\n",
        "stat_result_nonwhite = get_stat(non_white_summary, y_var, stat)\n",
        "\n",
        "print('The ' + stat + ' for emotion confidence score predicted for our white group AFTER blurring is: ' + str(stat_result_white))\n",
        "print('The ' + stat + ' for emotion confidence score predicted for our non_white group AFTER blurring is: ' + str(stat_result_nonwhite))\n",
        "\n",
        "print('')\n",
        "\n",
        "stat = 'std'\n",
        "stat_result_white = get_stat(white_df_summary, y_var, stat)\n",
        "stat_result_nonwhite = get_stat(non_white_summary, y_var, stat)\n",
        "print('The ' + stat + ' for emotion confidence score predicted for our white group AFTER blurring is: ' + str(stat_result_white))\n",
        "print('The ' + stat + ' for emotion confidence score predicted for our non_white group AFTER blurring is: ' + str(stat_result_nonwhite))\n",
        "\n",
        "#graph\n",
        "sns.violinplot(x = 'sc_label', y = y_var, data = dataframe, inner= None)\n",
        "\n",
        "plt.xlabel('Skin color label')\n",
        "plt.ylabel(y_var)\n",
        "plt.title('emotion confidence score predictions by skin color AFTER blurring')\n",
        "plt.show()"
      ],
      "execution_count": null,
      "outputs": [
        {
          "output_type": "stream",
          "text": [
            "The mean for emotion confidence score predicted for our white group AFTER blurring is: 83.999\n",
            "The mean for emotion confidence score predicted for our non_white group AFTER blurring is: 83.18\n",
            "\n",
            "The std for emotion confidence score predicted for our white group AFTER blurring is: 17.45\n",
            "The std for emotion confidence score predicted for our non_white group AFTER blurring is: 18.124\n"
          ],
          "name": "stdout"
        },
        {
          "output_type": "display_data",
          "data": {
            "image/png": "[encoded data removed]",
            "text/plain": [
              "<Figure size 432x288 with 1 Axes>"
            ]
          },
          "metadata": {
            "tags": [],
            "needs_background": "light"
          }
        }
      ]
    },
    {
      "cell_type": "markdown",
      "metadata": {
        "id": "6k5O3LlK5nRw"
      },
      "source": [
        "As we could observe from the result, for a normal picture, the mean emotion confidence score is higher for non-white groups by about 2 units. However, after we blurred the images, the mean emotion confidence score is higher for white groups by about 0.8 units. Before the blurring, the machin is more confident at telling the emotion of non-white people. After the blurring, the machine is slightly more confident at telling the emotion of white people. However, the difference of gender condifence scores across the groups is not significant in both scenarios. Therefore, we could say that the machine doesn’t really have a bias towards either group. The machine has about the same confidence and consistency in predicting the emotions of the non-white group and white group.\n",
        "\n",
        "For variation, for a normal picture, the std of emotion confidence score is higher for white groups by about 1 unit. However, after we blurred the images, the std of emotion confidence score is higher for non-white groups by about 0.5 unit. Both different are not very significant. \n"
      ]
    },
    {
      "cell_type": "markdown",
      "metadata": {
        "id": "ETPw4iZ_1WD1"
      },
      "source": [
        "# Summary"
      ]
    },
    {
      "cell_type": "markdown",
      "metadata": {
        "id": "3YC36Y9N1X0A"
      },
      "source": [
        "## Age\n",
        "\n",
        "We found that age generally decreases after we apply the blurring filter. This makes sense as the blurring filter softens wrinkles on faces and ML model would consider them to be younger. \n",
        "However, people who look younger before the blurring have higher predicted age after blurring. This could suggest that for young people who don't have many wrinkles and spots, the blurring filter makes their facial features less apparent, so the machine is less able to detect their true age. "
      ]
    },
    {
      "cell_type": "markdown",
      "metadata": {
        "id": "xlN6Nx-v2X0-"
      },
      "source": [
        "## Emotion \n",
        "\n",
        "Blurring the pictures would slightly enhances the machine's ability to detect emotion, which is a surprising finding. Our guess is that AWS Rekognition over simplifies some facial features when it is calculating the emotion. When we blurred the images, some facial details were lost, which made it easier for the machine to simplify the facial features and thus improved its confidence score."
      ]
    },
    {
      "cell_type": "markdown",
      "metadata": {
        "id": "wVCJIlvj2X-9"
      },
      "source": [
        "## Gender\n",
        "\n",
        "Blurring the pictures would slightly improves the machine's ability to detect gender, which is a surprising finding. Our guess for this is similar to our guess to emotion  - AWS Rekognition over simplifies some facial features when it is calculating the emotion. When we blurred the images, some facial details were lost, which made it easier for the machine to simplify the facial features and thus improved its confidence score.\n"
      ]
    },
    {
      "cell_type": "markdown",
      "metadata": {
        "id": "wd3-JuCq2YQK"
      },
      "source": [
        "## Metrics\n",
        "\n",
        "With supervised ML models, an important metric that pops up is accuracy. With labeled data, ML models usually are trained to reduce the misclassification error. As the images are blurred, details are lost in the picture so it is worth looking at whether the ML model reproduces the same labels. So we will look at consistency as an evaluation metric. \n",
        "\n",
        "After blurring, we observed that AWS changes its emotion labeling on five people with the inconsistency rate of 2.9%. Among the five changes, three of them are from SAD to CALM, and one is from FEAR to DISGUSTED. These emotions all have similar facial expressions. Even a real human being may not be able to easily distinguish between them. Therefore, we could say that blurring only slightly hinders the machine's ability to detect emotions. \n",
        "\n",
        "After blurring, AWS identifies more females than before. This makes sense as males have sharper facial features, and blurring the image would soften edges on male faces. Therefore, the machine would miscalculate some males as females after blurring. The inconsistency rate is only 5.7%, which is not a huge impact. \n",
        "\n"
      ]
    },
    {
      "cell_type": "markdown",
      "metadata": {
        "id": "loM4vZ3_2YYO"
      },
      "source": [
        "##Racial Analysis\n",
        "\n",
        "### Age\n",
        "\n",
        "The machine recognizes white people to be older than the non-white people. We wonder if it is because the light skin tone of white people makes it easier for the machine to pick up wrinkles and spots on their faces, which are signs of old ages. \n",
        "\n",
        "### Gender\n",
        "\n",
        "Even though the machine is slightly more confident and consistent in predicting the gender of the non-white group, it doesn’t really have a bias towards the white group. \n",
        "\n",
        "### Emotion\n",
        "\n",
        "The machine doesn’t have a bias towards either group. The machine has about the same confidence and consistency in predicting the emotions of the non-white group and white group."
      ]
    }
  ]
}