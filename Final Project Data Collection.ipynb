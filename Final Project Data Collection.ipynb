{
 "cells": [
  {
   "cell_type": "markdown",
   "metadata": {},
   "source": [
    "# Final Project Data Collection"
   ]
  },
  {
   "cell_type": "code",
   "execution_count": 67,
   "metadata": {},
   "outputs": [],
   "source": [
    "import numpy as np\n",
    "import pandas as pd"
   ]
  },
  {
   "cell_type": "code",
   "execution_count": 5,
   "metadata": {},
   "outputs": [
    {
     "name": "stdout",
     "output_type": "stream",
     "text": [
      "2020-11-14 19:35:38 final-blurred-photos\n",
      "2020-11-14 19:24:41 final-normal-photos\n",
      "2020-10-22 22:05:07 network-bucket-nm\n",
      "2020-10-20 22:24:15 source-image-350-nm\n",
      "2020-10-20 22:28:56 target-image-nm\n"
     ]
    }
   ],
   "source": [
    "!aws s3 ls"
   ]
  },
  {
   "cell_type": "markdown",
   "metadata": {},
   "source": [
    "## Using Rekognition on Images"
   ]
  },
  {
   "cell_type": "code",
   "execution_count": 14,
   "metadata": {},
   "outputs": [],
   "source": [
    "import boto3"
   ]
  },
  {
   "cell_type": "code",
   "execution_count": 15,
   "metadata": {},
   "outputs": [],
   "source": [
    "client = boto3.client('rekognition')"
   ]
  },
  {
   "cell_type": "markdown",
   "metadata": {},
   "source": [
    "### normal photos runthrough"
   ]
  },
  {
   "cell_type": "code",
   "execution_count": 29,
   "metadata": {},
   "outputs": [],
   "source": [
    "normal = []\n",
    "num = list(range(31))\n",
    "for i in num:\n",
    "    string = 'portrait_'+str(i)+'.jpg'\n",
    "    normal.append(string)\n",
    "normal = normal[1:]"
   ]
  },
  {
   "cell_type": "code",
   "execution_count": 36,
   "metadata": {},
   "outputs": [],
   "source": [
    "normal_image_dicts = []\n",
    "for image in normal:\n",
    "    Dict = client.detect_faces(Attributes=[\"ALL\"],Image={'S3Object':{'Bucket':'final-normal-photos','Name':image}})\n",
    "    normal_image_dicts.append(Dict['FaceDetails'])"
   ]
  },
  {
   "cell_type": "code",
   "execution_count": 71,
   "metadata": {},
   "outputs": [
    {
     "data": {
      "text/plain": [
       "['portrait_1.jpg', 18, 30, 'Female', 92.99, 'CALM', 63.34]"
      ]
     },
     "execution_count": 71,
     "metadata": {},
     "output_type": "execute_result"
    }
   ],
   "source": [
    "count = 1\n",
    "metadata_normal = []\n",
    "for image in normal_image_dicts:\n",
    "    name = 'portrait_'+str(count)+'.jpg'\n",
    "    count +=1\n",
    "    for Dict in image:\n",
    "        age = Dict['AgeRange']\n",
    "        ageLow = age['Low']\n",
    "        ageHigh = age['High']\n",
    "        \n",
    "        gender = Dict['Gender']\n",
    "        genderValue = gender['Value']\n",
    "        genderScore = np.round(gender['Confidence'],2)\n",
    "        \n",
    "        emotion = Dict['Emotions'][0]\n",
    "        emotionType = emotion['Type']\n",
    "        emotionScore = np.round(emotion['Confidence'],2)\n",
    "        \n",
    "        atrs = [name,ageLow,ageHigh,genderValue,genderScore,emotionType,emotionScore]\n",
    "        metadata_normal.append(atrs)\n",
    "metadata_normal[0]"
   ]
  },
  {
   "cell_type": "code",
   "execution_count": 72,
   "metadata": {},
   "outputs": [],
   "source": [
    "normal_df = pd.DataFrame(np.asarray(metadata_normal),columns=['filename','ageLow','ageHigh','gender','genderConfidence','emotion','emotionConfidence'])"
   ]
  },
  {
   "cell_type": "code",
   "execution_count": 73,
   "metadata": {},
   "outputs": [
    {
     "data": {
      "text/html": [
       "<div>\n",
       "<style scoped>\n",
       "    .dataframe tbody tr th:only-of-type {\n",
       "        vertical-align: middle;\n",
       "    }\n",
       "\n",
       "    .dataframe tbody tr th {\n",
       "        vertical-align: top;\n",
       "    }\n",
       "\n",
       "    .dataframe thead th {\n",
       "        text-align: right;\n",
       "    }\n",
       "</style>\n",
       "<table border=\"1\" class=\"dataframe\">\n",
       "  <thead>\n",
       "    <tr style=\"text-align: right;\">\n",
       "      <th></th>\n",
       "      <th>filename</th>\n",
       "      <th>ageLow</th>\n",
       "      <th>ageHigh</th>\n",
       "      <th>gender</th>\n",
       "      <th>genderConfidence</th>\n",
       "      <th>emotion</th>\n",
       "      <th>emotionConfidence</th>\n",
       "    </tr>\n",
       "  </thead>\n",
       "  <tbody>\n",
       "    <tr>\n",
       "      <th>0</th>\n",
       "      <td>portrait_1.jpg</td>\n",
       "      <td>18</td>\n",
       "      <td>30</td>\n",
       "      <td>Female</td>\n",
       "      <td>92.99</td>\n",
       "      <td>CALM</td>\n",
       "      <td>63.34</td>\n",
       "    </tr>\n",
       "    <tr>\n",
       "      <th>1</th>\n",
       "      <td>portrait_2.jpg</td>\n",
       "      <td>13</td>\n",
       "      <td>25</td>\n",
       "      <td>Female</td>\n",
       "      <td>99.98</td>\n",
       "      <td>HAPPY</td>\n",
       "      <td>99.99</td>\n",
       "    </tr>\n",
       "    <tr>\n",
       "      <th>2</th>\n",
       "      <td>portrait_3.jpg</td>\n",
       "      <td>22</td>\n",
       "      <td>34</td>\n",
       "      <td>Male</td>\n",
       "      <td>98.97</td>\n",
       "      <td>HAPPY</td>\n",
       "      <td>86.23</td>\n",
       "    </tr>\n",
       "    <tr>\n",
       "      <th>3</th>\n",
       "      <td>portrait_4.jpg</td>\n",
       "      <td>21</td>\n",
       "      <td>33</td>\n",
       "      <td>Male</td>\n",
       "      <td>99.89</td>\n",
       "      <td>CALM</td>\n",
       "      <td>72.04</td>\n",
       "    </tr>\n",
       "    <tr>\n",
       "      <th>4</th>\n",
       "      <td>portrait_5.jpg</td>\n",
       "      <td>22</td>\n",
       "      <td>34</td>\n",
       "      <td>Female</td>\n",
       "      <td>99.58</td>\n",
       "      <td>CALM</td>\n",
       "      <td>50.5</td>\n",
       "    </tr>\n",
       "  </tbody>\n",
       "</table>\n",
       "</div>"
      ],
      "text/plain": [
       "         filename ageLow ageHigh  gender genderConfidence emotion  \\\n",
       "0  portrait_1.jpg     18      30  Female            92.99    CALM   \n",
       "1  portrait_2.jpg     13      25  Female            99.98   HAPPY   \n",
       "2  portrait_3.jpg     22      34    Male            98.97   HAPPY   \n",
       "3  portrait_4.jpg     21      33    Male            99.89    CALM   \n",
       "4  portrait_5.jpg     22      34  Female            99.58    CALM   \n",
       "\n",
       "  emotionConfidence  \n",
       "0             63.34  \n",
       "1             99.99  \n",
       "2             86.23  \n",
       "3             72.04  \n",
       "4              50.5  "
      ]
     },
     "execution_count": 73,
     "metadata": {},
     "output_type": "execute_result"
    }
   ],
   "source": [
    "normal_df.head()"
   ]
  },
  {
   "cell_type": "code",
   "execution_count": 77,
   "metadata": {},
   "outputs": [],
   "source": [
    "#normal_df.to_csv('normal-images.csv')"
   ]
  },
  {
   "cell_type": "markdown",
   "metadata": {},
   "source": [
    "### blurred photos runthrough"
   ]
  },
  {
   "cell_type": "code",
   "execution_count": 26,
   "metadata": {},
   "outputs": [],
   "source": [
    "blurred = []\n",
    "num = list(range(31))\n",
    "for i in num:\n",
    "    string = 'portrait_'+str(i)+'_blurred.jpg'\n",
    "    blurred.append(string)\n",
    "blurred = blurred[1:]"
   ]
  },
  {
   "cell_type": "code",
   "execution_count": 64,
   "metadata": {},
   "outputs": [],
   "source": [
    "blurred_image_dicts = []\n",
    "for image in blurred:\n",
    "    Dict = client.detect_faces(Attributes=[\"ALL\"],Image={'S3Object':{'Bucket':'final-blurred-photos','Name':image}})\n",
    "    blurred_image_dicts.append(Dict['FaceDetails'])"
   ]
  },
  {
   "cell_type": "code",
   "execution_count": 74,
   "metadata": {},
   "outputs": [
    {
     "data": {
      "text/plain": [
       "['portrait_1_blurred.jpg', 13, 23, 'Female', 99.63, 'CALM', 84.28]"
      ]
     },
     "execution_count": 74,
     "metadata": {},
     "output_type": "execute_result"
    }
   ],
   "source": [
    "count = 1\n",
    "metadata_blurred = []\n",
    "for image in blurred_image_dicts:\n",
    "    name = 'portrait_'+str(count)+'_blurred.jpg'\n",
    "    count +=1\n",
    "    for Dict in image:\n",
    "        age = Dict['AgeRange']\n",
    "        ageLow = age['Low']\n",
    "        ageHigh = age['High']\n",
    "        \n",
    "        gender = Dict['Gender']\n",
    "        genderValue = gender['Value']\n",
    "        genderScore = np.round(gender['Confidence'],2)\n",
    "        \n",
    "        emotion = Dict['Emotions'][0]\n",
    "        emotionType = emotion['Type']\n",
    "        emotionScore = np.round(emotion['Confidence'],2)\n",
    "        \n",
    "        atrs = [name,ageLow,ageHigh,genderValue,genderScore,emotionType,emotionScore]\n",
    "        metadata_blurred.append(atrs)\n",
    "metadata_blurred[0]"
   ]
  },
  {
   "cell_type": "code",
   "execution_count": 75,
   "metadata": {},
   "outputs": [],
   "source": [
    "blurred_df = pd.DataFrame(np.asarray(metadata_blurred),columns=['filename','ageLow','ageHigh','gender','genderConfidence','emotion','emotionConfidence'])"
   ]
  },
  {
   "cell_type": "code",
   "execution_count": 76,
   "metadata": {},
   "outputs": [
    {
     "data": {
      "text/html": [
       "<div>\n",
       "<style scoped>\n",
       "    .dataframe tbody tr th:only-of-type {\n",
       "        vertical-align: middle;\n",
       "    }\n",
       "\n",
       "    .dataframe tbody tr th {\n",
       "        vertical-align: top;\n",
       "    }\n",
       "\n",
       "    .dataframe thead th {\n",
       "        text-align: right;\n",
       "    }\n",
       "</style>\n",
       "<table border=\"1\" class=\"dataframe\">\n",
       "  <thead>\n",
       "    <tr style=\"text-align: right;\">\n",
       "      <th></th>\n",
       "      <th>filename</th>\n",
       "      <th>ageLow</th>\n",
       "      <th>ageHigh</th>\n",
       "      <th>gender</th>\n",
       "      <th>genderConfidence</th>\n",
       "      <th>emotion</th>\n",
       "      <th>emotionConfidence</th>\n",
       "    </tr>\n",
       "  </thead>\n",
       "  <tbody>\n",
       "    <tr>\n",
       "      <th>0</th>\n",
       "      <td>portrait_1_blurred.jpg</td>\n",
       "      <td>13</td>\n",
       "      <td>23</td>\n",
       "      <td>Female</td>\n",
       "      <td>99.63</td>\n",
       "      <td>CALM</td>\n",
       "      <td>84.28</td>\n",
       "    </tr>\n",
       "    <tr>\n",
       "      <th>1</th>\n",
       "      <td>portrait_2_blurred.jpg</td>\n",
       "      <td>19</td>\n",
       "      <td>31</td>\n",
       "      <td>Female</td>\n",
       "      <td>99.98</td>\n",
       "      <td>HAPPY</td>\n",
       "      <td>99.99</td>\n",
       "    </tr>\n",
       "    <tr>\n",
       "      <th>2</th>\n",
       "      <td>portrait_3_blurred.jpg</td>\n",
       "      <td>23</td>\n",
       "      <td>37</td>\n",
       "      <td>Male</td>\n",
       "      <td>97.53</td>\n",
       "      <td>HAPPY</td>\n",
       "      <td>96.63</td>\n",
       "    </tr>\n",
       "    <tr>\n",
       "      <th>3</th>\n",
       "      <td>portrait_4_blurred.jpg</td>\n",
       "      <td>20</td>\n",
       "      <td>32</td>\n",
       "      <td>Male</td>\n",
       "      <td>99.65</td>\n",
       "      <td>CALM</td>\n",
       "      <td>94.4</td>\n",
       "    </tr>\n",
       "    <tr>\n",
       "      <th>4</th>\n",
       "      <td>portrait_5_blurred.jpg</td>\n",
       "      <td>23</td>\n",
       "      <td>35</td>\n",
       "      <td>Female</td>\n",
       "      <td>99.37</td>\n",
       "      <td>CALM</td>\n",
       "      <td>54.59</td>\n",
       "    </tr>\n",
       "  </tbody>\n",
       "</table>\n",
       "</div>"
      ],
      "text/plain": [
       "                 filename ageLow ageHigh  gender genderConfidence emotion  \\\n",
       "0  portrait_1_blurred.jpg     13      23  Female            99.63    CALM   \n",
       "1  portrait_2_blurred.jpg     19      31  Female            99.98   HAPPY   \n",
       "2  portrait_3_blurred.jpg     23      37    Male            97.53   HAPPY   \n",
       "3  portrait_4_blurred.jpg     20      32    Male            99.65    CALM   \n",
       "4  portrait_5_blurred.jpg     23      35  Female            99.37    CALM   \n",
       "\n",
       "  emotionConfidence  \n",
       "0             84.28  \n",
       "1             99.99  \n",
       "2             96.63  \n",
       "3              94.4  \n",
       "4             54.59  "
      ]
     },
     "execution_count": 76,
     "metadata": {},
     "output_type": "execute_result"
    }
   ],
   "source": [
    "blurred_df.head()"
   ]
  },
  {
   "cell_type": "code",
   "execution_count": 78,
   "metadata": {},
   "outputs": [],
   "source": [
    "#blurred_df.to_csv('blurred-images.csv')"
   ]
  },
  {
   "cell_type": "code",
   "execution_count": 84,
   "metadata": {},
   "outputs": [],
   "source": [
    "blurred_df.rename(columns={'filename':'b_filename','ageLow':'b_ageLow','ageHigh':'b_ageHigh',\n",
    "                          'gender':'b_gender','genderConfidence':'b_genderConf','emotion':'b_emotion',\n",
    "                          'emotionConfidence':'b_emotionConf'},inplace=True)"
   ]
  },
  {
   "cell_type": "code",
   "execution_count": 85,
   "metadata": {},
   "outputs": [],
   "source": [
    "df = pd.concat([normal_df,blurred_df],axis=1)"
   ]
  },
  {
   "cell_type": "code",
   "execution_count": 86,
   "metadata": {},
   "outputs": [
    {
     "data": {
      "text/html": [
       "<div>\n",
       "<style scoped>\n",
       "    .dataframe tbody tr th:only-of-type {\n",
       "        vertical-align: middle;\n",
       "    }\n",
       "\n",
       "    .dataframe tbody tr th {\n",
       "        vertical-align: top;\n",
       "    }\n",
       "\n",
       "    .dataframe thead th {\n",
       "        text-align: right;\n",
       "    }\n",
       "</style>\n",
       "<table border=\"1\" class=\"dataframe\">\n",
       "  <thead>\n",
       "    <tr style=\"text-align: right;\">\n",
       "      <th></th>\n",
       "      <th>filename</th>\n",
       "      <th>ageLow</th>\n",
       "      <th>ageHigh</th>\n",
       "      <th>gender</th>\n",
       "      <th>genderConfidence</th>\n",
       "      <th>emotion</th>\n",
       "      <th>emotionConfidence</th>\n",
       "      <th>b_filename</th>\n",
       "      <th>b_ageLow</th>\n",
       "      <th>b_ageHigh</th>\n",
       "      <th>b_gender</th>\n",
       "      <th>b_genderConf</th>\n",
       "      <th>b_emotion</th>\n",
       "      <th>b_emotionConf</th>\n",
       "    </tr>\n",
       "  </thead>\n",
       "  <tbody>\n",
       "    <tr>\n",
       "      <th>0</th>\n",
       "      <td>portrait_1.jpg</td>\n",
       "      <td>18</td>\n",
       "      <td>30</td>\n",
       "      <td>Female</td>\n",
       "      <td>92.99</td>\n",
       "      <td>CALM</td>\n",
       "      <td>63.34</td>\n",
       "      <td>portrait_1_blurred.jpg</td>\n",
       "      <td>13</td>\n",
       "      <td>23</td>\n",
       "      <td>Female</td>\n",
       "      <td>99.63</td>\n",
       "      <td>CALM</td>\n",
       "      <td>84.28</td>\n",
       "    </tr>\n",
       "    <tr>\n",
       "      <th>1</th>\n",
       "      <td>portrait_2.jpg</td>\n",
       "      <td>13</td>\n",
       "      <td>25</td>\n",
       "      <td>Female</td>\n",
       "      <td>99.98</td>\n",
       "      <td>HAPPY</td>\n",
       "      <td>99.99</td>\n",
       "      <td>portrait_2_blurred.jpg</td>\n",
       "      <td>19</td>\n",
       "      <td>31</td>\n",
       "      <td>Female</td>\n",
       "      <td>99.98</td>\n",
       "      <td>HAPPY</td>\n",
       "      <td>99.99</td>\n",
       "    </tr>\n",
       "    <tr>\n",
       "      <th>2</th>\n",
       "      <td>portrait_3.jpg</td>\n",
       "      <td>22</td>\n",
       "      <td>34</td>\n",
       "      <td>Male</td>\n",
       "      <td>98.97</td>\n",
       "      <td>HAPPY</td>\n",
       "      <td>86.23</td>\n",
       "      <td>portrait_3_blurred.jpg</td>\n",
       "      <td>23</td>\n",
       "      <td>37</td>\n",
       "      <td>Male</td>\n",
       "      <td>97.53</td>\n",
       "      <td>HAPPY</td>\n",
       "      <td>96.63</td>\n",
       "    </tr>\n",
       "    <tr>\n",
       "      <th>3</th>\n",
       "      <td>portrait_4.jpg</td>\n",
       "      <td>21</td>\n",
       "      <td>33</td>\n",
       "      <td>Male</td>\n",
       "      <td>99.89</td>\n",
       "      <td>CALM</td>\n",
       "      <td>72.04</td>\n",
       "      <td>portrait_4_blurred.jpg</td>\n",
       "      <td>20</td>\n",
       "      <td>32</td>\n",
       "      <td>Male</td>\n",
       "      <td>99.65</td>\n",
       "      <td>CALM</td>\n",
       "      <td>94.4</td>\n",
       "    </tr>\n",
       "    <tr>\n",
       "      <th>4</th>\n",
       "      <td>portrait_5.jpg</td>\n",
       "      <td>22</td>\n",
       "      <td>34</td>\n",
       "      <td>Female</td>\n",
       "      <td>99.58</td>\n",
       "      <td>CALM</td>\n",
       "      <td>50.5</td>\n",
       "      <td>portrait_5_blurred.jpg</td>\n",
       "      <td>23</td>\n",
       "      <td>35</td>\n",
       "      <td>Female</td>\n",
       "      <td>99.37</td>\n",
       "      <td>CALM</td>\n",
       "      <td>54.59</td>\n",
       "    </tr>\n",
       "  </tbody>\n",
       "</table>\n",
       "</div>"
      ],
      "text/plain": [
       "         filename ageLow ageHigh  gender genderConfidence emotion  \\\n",
       "0  portrait_1.jpg     18      30  Female            92.99    CALM   \n",
       "1  portrait_2.jpg     13      25  Female            99.98   HAPPY   \n",
       "2  portrait_3.jpg     22      34    Male            98.97   HAPPY   \n",
       "3  portrait_4.jpg     21      33    Male            99.89    CALM   \n",
       "4  portrait_5.jpg     22      34  Female            99.58    CALM   \n",
       "\n",
       "  emotionConfidence              b_filename b_ageLow b_ageHigh b_gender  \\\n",
       "0             63.34  portrait_1_blurred.jpg       13        23   Female   \n",
       "1             99.99  portrait_2_blurred.jpg       19        31   Female   \n",
       "2             86.23  portrait_3_blurred.jpg       23        37     Male   \n",
       "3             72.04  portrait_4_blurred.jpg       20        32     Male   \n",
       "4              50.5  portrait_5_blurred.jpg       23        35   Female   \n",
       "\n",
       "  b_genderConf b_emotion b_emotionConf  \n",
       "0        99.63      CALM         84.28  \n",
       "1        99.98     HAPPY         99.99  \n",
       "2        97.53     HAPPY         96.63  \n",
       "3        99.65      CALM          94.4  \n",
       "4        99.37      CALM         54.59  "
      ]
     },
     "execution_count": 86,
     "metadata": {},
     "output_type": "execute_result"
    }
   ],
   "source": [
    "df.head()"
   ]
  },
  {
   "cell_type": "code",
   "execution_count": 87,
   "metadata": {},
   "outputs": [],
   "source": [
    "#df.to_csv('final-data.csv')"
   ]
  }
 ],
 "metadata": {
  "kernelspec": {
   "display_name": "conda_python3",
   "language": "python",
   "name": "conda_python3"
  },
  "language_info": {
   "codemirror_mode": {
    "name": "ipython",
    "version": 3
   },
   "file_extension": ".py",
   "mimetype": "text/x-python",
   "name": "python",
   "nbconvert_exporter": "python",
   "pygments_lexer": "ipython3",
   "version": "3.6.10"
  }
 },
 "nbformat": 4,
 "nbformat_minor": 4
}
